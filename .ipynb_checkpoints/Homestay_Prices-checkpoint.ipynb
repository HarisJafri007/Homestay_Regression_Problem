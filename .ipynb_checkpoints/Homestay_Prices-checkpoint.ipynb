{
 "cells": [
  {
   "cell_type": "markdown",
   "id": "4fd59892-0d16-439b-8b45-bc7d8c2441ea",
   "metadata": {
    "jp-MarkdownHeadingCollapsed": true
   },
   "source": [
    "### Problem Statement"
   ]
  },
  {
   "cell_type": "markdown",
   "id": "5aec6ec9-18b7-4270-81a5-f4307e8ab8a5",
   "metadata": {},
   "source": [
    "You are being provided with a not so efficient Data Set related to Air BNB House Price. We need you to create a Model with required Visualizations that may predict the House Prices. Also find out the Accuracy of your Model and Mean Absolute Error of the Predicted vs Actual Prices."
   ]
  },
  {
   "cell_type": "markdown",
   "id": "3c88e38c-936f-40ca-9bd7-f87041b28059",
   "metadata": {
    "jp-MarkdownHeadingCollapsed": true
   },
   "source": [
    "### Importing Libraries"
   ]
  },
  {
   "cell_type": "code",
   "execution_count": 1,
   "id": "a99b0b5e-468f-407c-87ee-3493105484cd",
   "metadata": {},
   "outputs": [],
   "source": [
    "import numpy as np\n",
    "import pandas as pd\n",
    "import matplotlib.pyplot as plt\n",
    "import seaborn as sns\n",
    "import matplotlib.style"
   ]
  },
  {
   "cell_type": "markdown",
   "id": "be3a621d-597b-4882-9117-1f4ad0647e44",
   "metadata": {
    "jp-MarkdownHeadingCollapsed": true
   },
   "source": [
    "### Importing the Data"
   ]
  },
  {
   "cell_type": "code",
   "execution_count": 2,
   "id": "9bd58607-343f-41a6-a9f7-971288a5b66e",
   "metadata": {},
   "outputs": [
    {
     "data": {
      "text/html": [
       "<div>\n",
       "<style scoped>\n",
       "    .dataframe tbody tr th:only-of-type {\n",
       "        vertical-align: middle;\n",
       "    }\n",
       "\n",
       "    .dataframe tbody tr th {\n",
       "        vertical-align: top;\n",
       "    }\n",
       "\n",
       "    .dataframe thead th {\n",
       "        text-align: right;\n",
       "    }\n",
       "</style>\n",
       "<table border=\"1\" class=\"dataframe\">\n",
       "  <thead>\n",
       "    <tr style=\"text-align: right;\">\n",
       "      <th></th>\n",
       "      <th>id</th>\n",
       "      <th>room_type</th>\n",
       "      <th>accommodates</th>\n",
       "      <th>bathrooms</th>\n",
       "      <th>cancellation_policy</th>\n",
       "      <th>cleaning_fee</th>\n",
       "      <th>instant_bookable</th>\n",
       "      <th>review_scores_rating</th>\n",
       "      <th>bedrooms</th>\n",
       "      <th>beds</th>\n",
       "      <th>log_price</th>\n",
       "    </tr>\n",
       "  </thead>\n",
       "  <tbody>\n",
       "    <tr>\n",
       "      <th>0</th>\n",
       "      <td>6901257</td>\n",
       "      <td>Entire home/apt</td>\n",
       "      <td>3.0</td>\n",
       "      <td>1.0</td>\n",
       "      <td>strict</td>\n",
       "      <td>1.0</td>\n",
       "      <td>f</td>\n",
       "      <td>100.0</td>\n",
       "      <td>1.0</td>\n",
       "      <td>1.0</td>\n",
       "      <td>5.010635</td>\n",
       "    </tr>\n",
       "    <tr>\n",
       "      <th>1</th>\n",
       "      <td>6304928</td>\n",
       "      <td>Entire home/apt</td>\n",
       "      <td>7.0</td>\n",
       "      <td>1.0</td>\n",
       "      <td>strict</td>\n",
       "      <td>1.0</td>\n",
       "      <td>t</td>\n",
       "      <td>93.0</td>\n",
       "      <td>3.0</td>\n",
       "      <td>3.0</td>\n",
       "      <td>5.129899</td>\n",
       "    </tr>\n",
       "    <tr>\n",
       "      <th>2</th>\n",
       "      <td>7919400</td>\n",
       "      <td>Entire home/apt</td>\n",
       "      <td>5.0</td>\n",
       "      <td>1.0</td>\n",
       "      <td>moderate</td>\n",
       "      <td>1.0</td>\n",
       "      <td>t</td>\n",
       "      <td>92.0</td>\n",
       "      <td>1.0</td>\n",
       "      <td>3.0</td>\n",
       "      <td>4.976734</td>\n",
       "    </tr>\n",
       "    <tr>\n",
       "      <th>3</th>\n",
       "      <td>13418779</td>\n",
       "      <td>Entire home/apt</td>\n",
       "      <td>4.0</td>\n",
       "      <td>1.0</td>\n",
       "      <td>flexible</td>\n",
       "      <td>1.0</td>\n",
       "      <td>f</td>\n",
       "      <td>NaN</td>\n",
       "      <td>2.0</td>\n",
       "      <td>2.0</td>\n",
       "      <td>6.620073</td>\n",
       "    </tr>\n",
       "    <tr>\n",
       "      <th>4</th>\n",
       "      <td>3808709</td>\n",
       "      <td>Entire home/apt</td>\n",
       "      <td>2.0</td>\n",
       "      <td>1.0</td>\n",
       "      <td>moderate</td>\n",
       "      <td>1.0</td>\n",
       "      <td>t</td>\n",
       "      <td>40.0</td>\n",
       "      <td>0.0</td>\n",
       "      <td>1.0</td>\n",
       "      <td>4.744932</td>\n",
       "    </tr>\n",
       "    <tr>\n",
       "      <th>...</th>\n",
       "      <td>...</td>\n",
       "      <td>...</td>\n",
       "      <td>...</td>\n",
       "      <td>...</td>\n",
       "      <td>...</td>\n",
       "      <td>...</td>\n",
       "      <td>...</td>\n",
       "      <td>...</td>\n",
       "      <td>...</td>\n",
       "      <td>...</td>\n",
       "      <td>...</td>\n",
       "    </tr>\n",
       "    <tr>\n",
       "      <th>74106</th>\n",
       "      <td>14549287</td>\n",
       "      <td>Private room</td>\n",
       "      <td>1.0</td>\n",
       "      <td>1.0</td>\n",
       "      <td>flexible</td>\n",
       "      <td>0.0</td>\n",
       "      <td>f</td>\n",
       "      <td>NaN</td>\n",
       "      <td>1.0</td>\n",
       "      <td>1.0</td>\n",
       "      <td>4.605170</td>\n",
       "    </tr>\n",
       "    <tr>\n",
       "      <th>74107</th>\n",
       "      <td>13281809</td>\n",
       "      <td>Entire home/apt</td>\n",
       "      <td>4.0</td>\n",
       "      <td>2.0</td>\n",
       "      <td>moderate</td>\n",
       "      <td>1.0</td>\n",
       "      <td>f</td>\n",
       "      <td>93.0</td>\n",
       "      <td>2.0</td>\n",
       "      <td>4.0</td>\n",
       "      <td>5.043425</td>\n",
       "    </tr>\n",
       "    <tr>\n",
       "      <th>74108</th>\n",
       "      <td>18688039</td>\n",
       "      <td>Entire home/apt</td>\n",
       "      <td>5.0</td>\n",
       "      <td>1.0</td>\n",
       "      <td>moderate</td>\n",
       "      <td>1.0</td>\n",
       "      <td>t</td>\n",
       "      <td>94.0</td>\n",
       "      <td>2.0</td>\n",
       "      <td>2.0</td>\n",
       "      <td>5.220356</td>\n",
       "    </tr>\n",
       "    <tr>\n",
       "      <th>74109</th>\n",
       "      <td>17045948</td>\n",
       "      <td>Entire home/apt</td>\n",
       "      <td>2.0</td>\n",
       "      <td>1.0</td>\n",
       "      <td>strict</td>\n",
       "      <td>1.0</td>\n",
       "      <td>t</td>\n",
       "      <td>NaN</td>\n",
       "      <td>0.0</td>\n",
       "      <td>2.0</td>\n",
       "      <td>5.273000</td>\n",
       "    </tr>\n",
       "    <tr>\n",
       "      <th>74110</th>\n",
       "      <td>3534845</td>\n",
       "      <td>Entire home/apt</td>\n",
       "      <td>4.0</td>\n",
       "      <td>1.0</td>\n",
       "      <td>moderate</td>\n",
       "      <td>0.0</td>\n",
       "      <td>f</td>\n",
       "      <td>96.0</td>\n",
       "      <td>1.0</td>\n",
       "      <td>2.0</td>\n",
       "      <td>4.852030</td>\n",
       "    </tr>\n",
       "  </tbody>\n",
       "</table>\n",
       "<p>74111 rows × 11 columns</p>\n",
       "</div>"
      ],
      "text/plain": [
       "             id        room_type  accommodates  bathrooms cancellation_policy  \\\n",
       "0       6901257  Entire home/apt           3.0        1.0              strict   \n",
       "1       6304928  Entire home/apt           7.0        1.0              strict   \n",
       "2       7919400  Entire home/apt           5.0        1.0            moderate   \n",
       "3      13418779  Entire home/apt           4.0        1.0            flexible   \n",
       "4       3808709  Entire home/apt           2.0        1.0            moderate   \n",
       "...         ...              ...           ...        ...                 ...   \n",
       "74106  14549287     Private room           1.0        1.0            flexible   \n",
       "74107  13281809  Entire home/apt           4.0        2.0            moderate   \n",
       "74108  18688039  Entire home/apt           5.0        1.0            moderate   \n",
       "74109  17045948  Entire home/apt           2.0        1.0              strict   \n",
       "74110   3534845  Entire home/apt           4.0        1.0            moderate   \n",
       "\n",
       "       cleaning_fee instant_bookable  review_scores_rating  bedrooms  beds  \\\n",
       "0               1.0                f                 100.0       1.0   1.0   \n",
       "1               1.0                t                  93.0       3.0   3.0   \n",
       "2               1.0                t                  92.0       1.0   3.0   \n",
       "3               1.0                f                   NaN       2.0   2.0   \n",
       "4               1.0                t                  40.0       0.0   1.0   \n",
       "...             ...              ...                   ...       ...   ...   \n",
       "74106           0.0                f                   NaN       1.0   1.0   \n",
       "74107           1.0                f                  93.0       2.0   4.0   \n",
       "74108           1.0                t                  94.0       2.0   2.0   \n",
       "74109           1.0                t                   NaN       0.0   2.0   \n",
       "74110           0.0                f                  96.0       1.0   2.0   \n",
       "\n",
       "       log_price  \n",
       "0       5.010635  \n",
       "1       5.129899  \n",
       "2       4.976734  \n",
       "3       6.620073  \n",
       "4       4.744932  \n",
       "...          ...  \n",
       "74106   4.605170  \n",
       "74107   5.043425  \n",
       "74108   5.220356  \n",
       "74109   5.273000  \n",
       "74110   4.852030  \n",
       "\n",
       "[74111 rows x 11 columns]"
      ]
     },
     "execution_count": 2,
     "metadata": {},
     "output_type": "execute_result"
    }
   ],
   "source": [
    "file_path = 'Air_BNB.xlsx'\n",
    "df = pd.read_excel(file_path)\n",
    "df"
   ]
  },
  {
   "cell_type": "markdown",
   "id": "73fef2f5-a65b-4837-b4dc-b7b16c130c75",
   "metadata": {},
   "source": [
    "This is quite visible that there are 74111 Entries (rows) and 11 Features (columns)."
   ]
  },
  {
   "cell_type": "markdown",
   "id": "6e282f3d-aca5-4602-b7e7-1cbfb64dd34f",
   "metadata": {
    "jp-MarkdownHeadingCollapsed": true
   },
   "source": [
    "### Analyzing the DataFrame"
   ]
  },
  {
   "cell_type": "markdown",
   "id": "bbf50ff3-ab0b-44b1-93eb-8b967017bec6",
   "metadata": {},
   "source": [
    "As of now, although I know that size of the Data Frame but it is important to find out the shape, dimensions and size of the Data Frame seperately."
   ]
  },
  {
   "cell_type": "code",
   "execution_count": 3,
   "id": "ec59bfe1-57a3-4eb8-bb08-934723b56f49",
   "metadata": {},
   "outputs": [
    {
     "data": {
      "text/plain": [
       "(74111, 11)"
      ]
     },
     "execution_count": 3,
     "metadata": {},
     "output_type": "execute_result"
    }
   ],
   "source": [
    "df.shape # Number of Rows and Columns in Data Frame"
   ]
  },
  {
   "cell_type": "code",
   "execution_count": 4,
   "id": "e8617cd7-0d20-4e40-acb3-7a641dc66b4e",
   "metadata": {},
   "outputs": [
    {
     "data": {
      "text/plain": [
       "815221"
      ]
     },
     "execution_count": 4,
     "metadata": {},
     "output_type": "execute_result"
    }
   ],
   "source": [
    "df.size # Number of all type of Entries in Data Frame"
   ]
  },
  {
   "cell_type": "code",
   "execution_count": 5,
   "id": "afa64c3c-430c-4894-8b0c-e3713897c2a5",
   "metadata": {},
   "outputs": [
    {
     "data": {
      "text/plain": [
       "2"
      ]
     },
     "execution_count": 5,
     "metadata": {},
     "output_type": "execute_result"
    }
   ],
   "source": [
    "df.ndim # Dimension of the Data Frame"
   ]
  },
  {
   "cell_type": "markdown",
   "id": "d6b840ff-e590-4359-bb5a-ec0cbf1e7e04",
   "metadata": {},
   "source": [
    "What are the Columns that are available in the Data Frame? It is important to find that out simply because I might be able to drop some columns from my data frame that might not be important during Data Analysis."
   ]
  },
  {
   "cell_type": "code",
   "execution_count": 6,
   "id": "4bc8cb7c-788b-4b79-a476-804bd4532808",
   "metadata": {},
   "outputs": [
    {
     "data": {
      "text/plain": [
       "Index(['id', 'room_type', 'accommodates', 'bathrooms', 'cancellation_policy',\n",
       "       'cleaning_fee', 'instant_bookable', 'review_scores_rating', 'bedrooms',\n",
       "       'beds', 'log_price'],\n",
       "      dtype='object')"
      ]
     },
     "execution_count": 6,
     "metadata": {},
     "output_type": "execute_result"
    }
   ],
   "source": [
    "df.columns"
   ]
  },
  {
   "cell_type": "markdown",
   "id": "58ae1191-e217-4350-8779-1e3b985978c5",
   "metadata": {},
   "source": [
    "I am quite sure that 'id' column simply represents that Property Number and does not have any potential value in the context of any calculation."
   ]
  },
  {
   "cell_type": "markdown",
   "id": "1b245181-5902-4853-a21b-439461b6d76b",
   "metadata": {
    "jp-MarkdownHeadingCollapsed": true
   },
   "source": [
    "### Dropping Columns that are not required"
   ]
  },
  {
   "cell_type": "code",
   "execution_count": 7,
   "id": "7f488d81-99ac-4159-8d71-0fa693612d9b",
   "metadata": {},
   "outputs": [],
   "source": [
    "df.drop('id',axis=1,inplace=True) # Drop the 'id' Column , keeping axis = 1 drops it Columnwise and inplace = True makes the changes permanent."
   ]
  },
  {
   "cell_type": "code",
   "execution_count": 8,
   "id": "d1cb6086-25a5-4d30-b605-822551853260",
   "metadata": {},
   "outputs": [
    {
     "data": {
      "text/html": [
       "<div>\n",
       "<style scoped>\n",
       "    .dataframe tbody tr th:only-of-type {\n",
       "        vertical-align: middle;\n",
       "    }\n",
       "\n",
       "    .dataframe tbody tr th {\n",
       "        vertical-align: top;\n",
       "    }\n",
       "\n",
       "    .dataframe thead th {\n",
       "        text-align: right;\n",
       "    }\n",
       "</style>\n",
       "<table border=\"1\" class=\"dataframe\">\n",
       "  <thead>\n",
       "    <tr style=\"text-align: right;\">\n",
       "      <th></th>\n",
       "      <th>room_type</th>\n",
       "      <th>accommodates</th>\n",
       "      <th>bathrooms</th>\n",
       "      <th>cancellation_policy</th>\n",
       "      <th>cleaning_fee</th>\n",
       "      <th>instant_bookable</th>\n",
       "      <th>review_scores_rating</th>\n",
       "      <th>bedrooms</th>\n",
       "      <th>beds</th>\n",
       "      <th>log_price</th>\n",
       "    </tr>\n",
       "  </thead>\n",
       "  <tbody>\n",
       "    <tr>\n",
       "      <th>0</th>\n",
       "      <td>Entire home/apt</td>\n",
       "      <td>3.0</td>\n",
       "      <td>1.0</td>\n",
       "      <td>strict</td>\n",
       "      <td>1.0</td>\n",
       "      <td>f</td>\n",
       "      <td>100.0</td>\n",
       "      <td>1.0</td>\n",
       "      <td>1.0</td>\n",
       "      <td>5.010635</td>\n",
       "    </tr>\n",
       "    <tr>\n",
       "      <th>1</th>\n",
       "      <td>Entire home/apt</td>\n",
       "      <td>7.0</td>\n",
       "      <td>1.0</td>\n",
       "      <td>strict</td>\n",
       "      <td>1.0</td>\n",
       "      <td>t</td>\n",
       "      <td>93.0</td>\n",
       "      <td>3.0</td>\n",
       "      <td>3.0</td>\n",
       "      <td>5.129899</td>\n",
       "    </tr>\n",
       "    <tr>\n",
       "      <th>2</th>\n",
       "      <td>Entire home/apt</td>\n",
       "      <td>5.0</td>\n",
       "      <td>1.0</td>\n",
       "      <td>moderate</td>\n",
       "      <td>1.0</td>\n",
       "      <td>t</td>\n",
       "      <td>92.0</td>\n",
       "      <td>1.0</td>\n",
       "      <td>3.0</td>\n",
       "      <td>4.976734</td>\n",
       "    </tr>\n",
       "    <tr>\n",
       "      <th>3</th>\n",
       "      <td>Entire home/apt</td>\n",
       "      <td>4.0</td>\n",
       "      <td>1.0</td>\n",
       "      <td>flexible</td>\n",
       "      <td>1.0</td>\n",
       "      <td>f</td>\n",
       "      <td>NaN</td>\n",
       "      <td>2.0</td>\n",
       "      <td>2.0</td>\n",
       "      <td>6.620073</td>\n",
       "    </tr>\n",
       "    <tr>\n",
       "      <th>4</th>\n",
       "      <td>Entire home/apt</td>\n",
       "      <td>2.0</td>\n",
       "      <td>1.0</td>\n",
       "      <td>moderate</td>\n",
       "      <td>1.0</td>\n",
       "      <td>t</td>\n",
       "      <td>40.0</td>\n",
       "      <td>0.0</td>\n",
       "      <td>1.0</td>\n",
       "      <td>4.744932</td>\n",
       "    </tr>\n",
       "    <tr>\n",
       "      <th>...</th>\n",
       "      <td>...</td>\n",
       "      <td>...</td>\n",
       "      <td>...</td>\n",
       "      <td>...</td>\n",
       "      <td>...</td>\n",
       "      <td>...</td>\n",
       "      <td>...</td>\n",
       "      <td>...</td>\n",
       "      <td>...</td>\n",
       "      <td>...</td>\n",
       "    </tr>\n",
       "    <tr>\n",
       "      <th>74106</th>\n",
       "      <td>Private room</td>\n",
       "      <td>1.0</td>\n",
       "      <td>1.0</td>\n",
       "      <td>flexible</td>\n",
       "      <td>0.0</td>\n",
       "      <td>f</td>\n",
       "      <td>NaN</td>\n",
       "      <td>1.0</td>\n",
       "      <td>1.0</td>\n",
       "      <td>4.605170</td>\n",
       "    </tr>\n",
       "    <tr>\n",
       "      <th>74107</th>\n",
       "      <td>Entire home/apt</td>\n",
       "      <td>4.0</td>\n",
       "      <td>2.0</td>\n",
       "      <td>moderate</td>\n",
       "      <td>1.0</td>\n",
       "      <td>f</td>\n",
       "      <td>93.0</td>\n",
       "      <td>2.0</td>\n",
       "      <td>4.0</td>\n",
       "      <td>5.043425</td>\n",
       "    </tr>\n",
       "    <tr>\n",
       "      <th>74108</th>\n",
       "      <td>Entire home/apt</td>\n",
       "      <td>5.0</td>\n",
       "      <td>1.0</td>\n",
       "      <td>moderate</td>\n",
       "      <td>1.0</td>\n",
       "      <td>t</td>\n",
       "      <td>94.0</td>\n",
       "      <td>2.0</td>\n",
       "      <td>2.0</td>\n",
       "      <td>5.220356</td>\n",
       "    </tr>\n",
       "    <tr>\n",
       "      <th>74109</th>\n",
       "      <td>Entire home/apt</td>\n",
       "      <td>2.0</td>\n",
       "      <td>1.0</td>\n",
       "      <td>strict</td>\n",
       "      <td>1.0</td>\n",
       "      <td>t</td>\n",
       "      <td>NaN</td>\n",
       "      <td>0.0</td>\n",
       "      <td>2.0</td>\n",
       "      <td>5.273000</td>\n",
       "    </tr>\n",
       "    <tr>\n",
       "      <th>74110</th>\n",
       "      <td>Entire home/apt</td>\n",
       "      <td>4.0</td>\n",
       "      <td>1.0</td>\n",
       "      <td>moderate</td>\n",
       "      <td>0.0</td>\n",
       "      <td>f</td>\n",
       "      <td>96.0</td>\n",
       "      <td>1.0</td>\n",
       "      <td>2.0</td>\n",
       "      <td>4.852030</td>\n",
       "    </tr>\n",
       "  </tbody>\n",
       "</table>\n",
       "<p>74111 rows × 10 columns</p>\n",
       "</div>"
      ],
      "text/plain": [
       "             room_type  accommodates  bathrooms cancellation_policy  \\\n",
       "0      Entire home/apt           3.0        1.0              strict   \n",
       "1      Entire home/apt           7.0        1.0              strict   \n",
       "2      Entire home/apt           5.0        1.0            moderate   \n",
       "3      Entire home/apt           4.0        1.0            flexible   \n",
       "4      Entire home/apt           2.0        1.0            moderate   \n",
       "...                ...           ...        ...                 ...   \n",
       "74106     Private room           1.0        1.0            flexible   \n",
       "74107  Entire home/apt           4.0        2.0            moderate   \n",
       "74108  Entire home/apt           5.0        1.0            moderate   \n",
       "74109  Entire home/apt           2.0        1.0              strict   \n",
       "74110  Entire home/apt           4.0        1.0            moderate   \n",
       "\n",
       "       cleaning_fee instant_bookable  review_scores_rating  bedrooms  beds  \\\n",
       "0               1.0                f                 100.0       1.0   1.0   \n",
       "1               1.0                t                  93.0       3.0   3.0   \n",
       "2               1.0                t                  92.0       1.0   3.0   \n",
       "3               1.0                f                   NaN       2.0   2.0   \n",
       "4               1.0                t                  40.0       0.0   1.0   \n",
       "...             ...              ...                   ...       ...   ...   \n",
       "74106           0.0                f                   NaN       1.0   1.0   \n",
       "74107           1.0                f                  93.0       2.0   4.0   \n",
       "74108           1.0                t                  94.0       2.0   2.0   \n",
       "74109           1.0                t                   NaN       0.0   2.0   \n",
       "74110           0.0                f                  96.0       1.0   2.0   \n",
       "\n",
       "       log_price  \n",
       "0       5.010635  \n",
       "1       5.129899  \n",
       "2       4.976734  \n",
       "3       6.620073  \n",
       "4       4.744932  \n",
       "...          ...  \n",
       "74106   4.605170  \n",
       "74107   5.043425  \n",
       "74108   5.220356  \n",
       "74109   5.273000  \n",
       "74110   4.852030  \n",
       "\n",
       "[74111 rows x 10 columns]"
      ]
     },
     "execution_count": 8,
     "metadata": {},
     "output_type": "execute_result"
    }
   ],
   "source": [
    "df # lets us rewatch the entire data frame to ensure that 'id' column has been dropped"
   ]
  },
  {
   "cell_type": "markdown",
   "id": "706e77d2-ef69-4dcf-a069-9677ab945a17",
   "metadata": {},
   "source": [
    "Lets us see the shape, size and dimension once again."
   ]
  },
  {
   "cell_type": "code",
   "execution_count": 9,
   "id": "436aa34b-2ae0-4588-a9aa-1db2a6681f15",
   "metadata": {},
   "outputs": [
    {
     "name": "stdout",
     "output_type": "stream",
     "text": [
      "The Numbers of Rows: 74111\n",
      "The Numbers of Columns: 10\n",
      "The Number of Entries: 741110\n",
      "The Dimension of DataFrame: 2\n"
     ]
    }
   ],
   "source": [
    "print('The Numbers of Rows:',df.shape[0])\n",
    "print('The Numbers of Columns:',df.shape[1])\n",
    "print('The Number of Entries:',df.size)\n",
    "print('The Dimension of DataFrame:',df.ndim)"
   ]
  },
  {
   "cell_type": "markdown",
   "id": "5ab5ed30-9e97-4861-b360-656d450561b9",
   "metadata": {},
   "source": [
    "Lets us watch the top 5 and bottom 5 entries of the DataFrame."
   ]
  },
  {
   "cell_type": "code",
   "execution_count": 10,
   "id": "6fdd196a-7854-407f-9306-ee80f4c0119e",
   "metadata": {},
   "outputs": [
    {
     "name": "stdout",
     "output_type": "stream",
     "text": [
      "Top 5 Rows of the DataFrame\n"
     ]
    },
    {
     "data": {
      "text/html": [
       "<div>\n",
       "<style scoped>\n",
       "    .dataframe tbody tr th:only-of-type {\n",
       "        vertical-align: middle;\n",
       "    }\n",
       "\n",
       "    .dataframe tbody tr th {\n",
       "        vertical-align: top;\n",
       "    }\n",
       "\n",
       "    .dataframe thead th {\n",
       "        text-align: right;\n",
       "    }\n",
       "</style>\n",
       "<table border=\"1\" class=\"dataframe\">\n",
       "  <thead>\n",
       "    <tr style=\"text-align: right;\">\n",
       "      <th></th>\n",
       "      <th>room_type</th>\n",
       "      <th>accommodates</th>\n",
       "      <th>bathrooms</th>\n",
       "      <th>cancellation_policy</th>\n",
       "      <th>cleaning_fee</th>\n",
       "      <th>instant_bookable</th>\n",
       "      <th>review_scores_rating</th>\n",
       "      <th>bedrooms</th>\n",
       "      <th>beds</th>\n",
       "      <th>log_price</th>\n",
       "    </tr>\n",
       "  </thead>\n",
       "  <tbody>\n",
       "    <tr>\n",
       "      <th>0</th>\n",
       "      <td>Entire home/apt</td>\n",
       "      <td>3.0</td>\n",
       "      <td>1.0</td>\n",
       "      <td>strict</td>\n",
       "      <td>1.0</td>\n",
       "      <td>f</td>\n",
       "      <td>100.0</td>\n",
       "      <td>1.0</td>\n",
       "      <td>1.0</td>\n",
       "      <td>5.010635</td>\n",
       "    </tr>\n",
       "    <tr>\n",
       "      <th>1</th>\n",
       "      <td>Entire home/apt</td>\n",
       "      <td>7.0</td>\n",
       "      <td>1.0</td>\n",
       "      <td>strict</td>\n",
       "      <td>1.0</td>\n",
       "      <td>t</td>\n",
       "      <td>93.0</td>\n",
       "      <td>3.0</td>\n",
       "      <td>3.0</td>\n",
       "      <td>5.129899</td>\n",
       "    </tr>\n",
       "    <tr>\n",
       "      <th>2</th>\n",
       "      <td>Entire home/apt</td>\n",
       "      <td>5.0</td>\n",
       "      <td>1.0</td>\n",
       "      <td>moderate</td>\n",
       "      <td>1.0</td>\n",
       "      <td>t</td>\n",
       "      <td>92.0</td>\n",
       "      <td>1.0</td>\n",
       "      <td>3.0</td>\n",
       "      <td>4.976734</td>\n",
       "    </tr>\n",
       "    <tr>\n",
       "      <th>3</th>\n",
       "      <td>Entire home/apt</td>\n",
       "      <td>4.0</td>\n",
       "      <td>1.0</td>\n",
       "      <td>flexible</td>\n",
       "      <td>1.0</td>\n",
       "      <td>f</td>\n",
       "      <td>NaN</td>\n",
       "      <td>2.0</td>\n",
       "      <td>2.0</td>\n",
       "      <td>6.620073</td>\n",
       "    </tr>\n",
       "    <tr>\n",
       "      <th>4</th>\n",
       "      <td>Entire home/apt</td>\n",
       "      <td>2.0</td>\n",
       "      <td>1.0</td>\n",
       "      <td>moderate</td>\n",
       "      <td>1.0</td>\n",
       "      <td>t</td>\n",
       "      <td>40.0</td>\n",
       "      <td>0.0</td>\n",
       "      <td>1.0</td>\n",
       "      <td>4.744932</td>\n",
       "    </tr>\n",
       "  </tbody>\n",
       "</table>\n",
       "</div>"
      ],
      "text/plain": [
       "         room_type  accommodates  bathrooms cancellation_policy  cleaning_fee  \\\n",
       "0  Entire home/apt           3.0        1.0              strict           1.0   \n",
       "1  Entire home/apt           7.0        1.0              strict           1.0   \n",
       "2  Entire home/apt           5.0        1.0            moderate           1.0   \n",
       "3  Entire home/apt           4.0        1.0            flexible           1.0   \n",
       "4  Entire home/apt           2.0        1.0            moderate           1.0   \n",
       "\n",
       "  instant_bookable  review_scores_rating  bedrooms  beds  log_price  \n",
       "0                f                 100.0       1.0   1.0   5.010635  \n",
       "1                t                  93.0       3.0   3.0   5.129899  \n",
       "2                t                  92.0       1.0   3.0   4.976734  \n",
       "3                f                   NaN       2.0   2.0   6.620073  \n",
       "4                t                  40.0       0.0   1.0   4.744932  "
      ]
     },
     "execution_count": 10,
     "metadata": {},
     "output_type": "execute_result"
    }
   ],
   "source": [
    "print('Top 5 Rows of the DataFrame')\n",
    "df.head()"
   ]
  },
  {
   "cell_type": "code",
   "execution_count": 11,
   "id": "96ec8073-58be-4083-bb3a-732821fbc27d",
   "metadata": {},
   "outputs": [
    {
     "name": "stdout",
     "output_type": "stream",
     "text": [
      "Bottom 5 Rows of the DataFrame\n"
     ]
    },
    {
     "data": {
      "text/html": [
       "<div>\n",
       "<style scoped>\n",
       "    .dataframe tbody tr th:only-of-type {\n",
       "        vertical-align: middle;\n",
       "    }\n",
       "\n",
       "    .dataframe tbody tr th {\n",
       "        vertical-align: top;\n",
       "    }\n",
       "\n",
       "    .dataframe thead th {\n",
       "        text-align: right;\n",
       "    }\n",
       "</style>\n",
       "<table border=\"1\" class=\"dataframe\">\n",
       "  <thead>\n",
       "    <tr style=\"text-align: right;\">\n",
       "      <th></th>\n",
       "      <th>room_type</th>\n",
       "      <th>accommodates</th>\n",
       "      <th>bathrooms</th>\n",
       "      <th>cancellation_policy</th>\n",
       "      <th>cleaning_fee</th>\n",
       "      <th>instant_bookable</th>\n",
       "      <th>review_scores_rating</th>\n",
       "      <th>bedrooms</th>\n",
       "      <th>beds</th>\n",
       "      <th>log_price</th>\n",
       "    </tr>\n",
       "  </thead>\n",
       "  <tbody>\n",
       "    <tr>\n",
       "      <th>74106</th>\n",
       "      <td>Private room</td>\n",
       "      <td>1.0</td>\n",
       "      <td>1.0</td>\n",
       "      <td>flexible</td>\n",
       "      <td>0.0</td>\n",
       "      <td>f</td>\n",
       "      <td>NaN</td>\n",
       "      <td>1.0</td>\n",
       "      <td>1.0</td>\n",
       "      <td>4.605170</td>\n",
       "    </tr>\n",
       "    <tr>\n",
       "      <th>74107</th>\n",
       "      <td>Entire home/apt</td>\n",
       "      <td>4.0</td>\n",
       "      <td>2.0</td>\n",
       "      <td>moderate</td>\n",
       "      <td>1.0</td>\n",
       "      <td>f</td>\n",
       "      <td>93.0</td>\n",
       "      <td>2.0</td>\n",
       "      <td>4.0</td>\n",
       "      <td>5.043425</td>\n",
       "    </tr>\n",
       "    <tr>\n",
       "      <th>74108</th>\n",
       "      <td>Entire home/apt</td>\n",
       "      <td>5.0</td>\n",
       "      <td>1.0</td>\n",
       "      <td>moderate</td>\n",
       "      <td>1.0</td>\n",
       "      <td>t</td>\n",
       "      <td>94.0</td>\n",
       "      <td>2.0</td>\n",
       "      <td>2.0</td>\n",
       "      <td>5.220356</td>\n",
       "    </tr>\n",
       "    <tr>\n",
       "      <th>74109</th>\n",
       "      <td>Entire home/apt</td>\n",
       "      <td>2.0</td>\n",
       "      <td>1.0</td>\n",
       "      <td>strict</td>\n",
       "      <td>1.0</td>\n",
       "      <td>t</td>\n",
       "      <td>NaN</td>\n",
       "      <td>0.0</td>\n",
       "      <td>2.0</td>\n",
       "      <td>5.273000</td>\n",
       "    </tr>\n",
       "    <tr>\n",
       "      <th>74110</th>\n",
       "      <td>Entire home/apt</td>\n",
       "      <td>4.0</td>\n",
       "      <td>1.0</td>\n",
       "      <td>moderate</td>\n",
       "      <td>0.0</td>\n",
       "      <td>f</td>\n",
       "      <td>96.0</td>\n",
       "      <td>1.0</td>\n",
       "      <td>2.0</td>\n",
       "      <td>4.852030</td>\n",
       "    </tr>\n",
       "  </tbody>\n",
       "</table>\n",
       "</div>"
      ],
      "text/plain": [
       "             room_type  accommodates  bathrooms cancellation_policy  \\\n",
       "74106     Private room           1.0        1.0            flexible   \n",
       "74107  Entire home/apt           4.0        2.0            moderate   \n",
       "74108  Entire home/apt           5.0        1.0            moderate   \n",
       "74109  Entire home/apt           2.0        1.0              strict   \n",
       "74110  Entire home/apt           4.0        1.0            moderate   \n",
       "\n",
       "       cleaning_fee instant_bookable  review_scores_rating  bedrooms  beds  \\\n",
       "74106           0.0                f                   NaN       1.0   1.0   \n",
       "74107           1.0                f                  93.0       2.0   4.0   \n",
       "74108           1.0                t                  94.0       2.0   2.0   \n",
       "74109           1.0                t                   NaN       0.0   2.0   \n",
       "74110           0.0                f                  96.0       1.0   2.0   \n",
       "\n",
       "       log_price  \n",
       "74106   4.605170  \n",
       "74107   5.043425  \n",
       "74108   5.220356  \n",
       "74109   5.273000  \n",
       "74110   4.852030  "
      ]
     },
     "execution_count": 11,
     "metadata": {},
     "output_type": "execute_result"
    }
   ],
   "source": [
    "print('Bottom 5 Rows of the DataFrame')\n",
    "df.tail()"
   ]
  },
  {
   "cell_type": "markdown",
   "id": "4ca8af13-1fb9-47e3-adde-cf72705ef015",
   "metadata": {},
   "source": [
    "Loading the Data Frame is meaning less as there are 74,110 entries which is humanly impossible to read. Thus we need to get info about the Data Frame."
   ]
  },
  {
   "cell_type": "code",
   "execution_count": 12,
   "id": "ef6f51f4-3dc8-4418-a44d-40c1f76a4138",
   "metadata": {},
   "outputs": [
    {
     "name": "stdout",
     "output_type": "stream",
     "text": [
      "<class 'pandas.core.frame.DataFrame'>\n",
      "RangeIndex: 74111 entries, 0 to 74110\n",
      "Data columns (total 10 columns):\n",
      " #   Column                Non-Null Count  Dtype  \n",
      "---  ------                --------------  -----  \n",
      " 0   room_type             74106 non-null  object \n",
      " 1   accommodates          74108 non-null  float64\n",
      " 2   bathrooms             73908 non-null  float64\n",
      " 3   cancellation_policy   74103 non-null  object \n",
      " 4   cleaning_fee          74107 non-null  float64\n",
      " 5   instant_bookable      74111 non-null  object \n",
      " 6   review_scores_rating  57389 non-null  float64\n",
      " 7   bedrooms              74019 non-null  float64\n",
      " 8   beds                  73980 non-null  float64\n",
      " 9   log_price             74111 non-null  float64\n",
      "dtypes: float64(7), object(3)\n",
      "memory usage: 5.7+ MB\n"
     ]
    }
   ],
   "source": [
    "df.info()"
   ]
  },
  {
   "cell_type": "markdown",
   "id": "44459fa6-7a27-4c3c-b9f5-6333cc20d6ce",
   "metadata": {},
   "source": [
    "Only 'instant_bookable' and 'log_price' are the two columns that does not contain any null value. Rest have some null values and 'review_scores_rating' column has 57389 non-null values.\n",
    "\n",
    "Also there are total of 10 Columns. 7 of them are designed to take float numbers and 3 are Text Object Types."
   ]
  },
  {
   "cell_type": "markdown",
   "id": "e7bf5154-8d48-4fd4-b46c-a9ea021d39a8",
   "metadata": {
    "jp-MarkdownHeadingCollapsed": true
   },
   "source": [
    "### Rough Overview of Data"
   ]
  },
  {
   "cell_type": "markdown",
   "id": "9a8384c9-c7ac-4f64-8e24-d7db7ad04ed3",
   "metadata": {},
   "source": [
    "We have understood the Data Frame via df.info() but it is also important to get a statistical summary about the Data Frame Numeric Columns."
   ]
  },
  {
   "cell_type": "code",
   "execution_count": 13,
   "id": "0b46cdeb-439b-4563-b886-6959e19e247d",
   "metadata": {},
   "outputs": [
    {
     "data": {
      "text/html": [
       "<div>\n",
       "<style scoped>\n",
       "    .dataframe tbody tr th:only-of-type {\n",
       "        vertical-align: middle;\n",
       "    }\n",
       "\n",
       "    .dataframe tbody tr th {\n",
       "        vertical-align: top;\n",
       "    }\n",
       "\n",
       "    .dataframe thead th {\n",
       "        text-align: right;\n",
       "    }\n",
       "</style>\n",
       "<table border=\"1\" class=\"dataframe\">\n",
       "  <thead>\n",
       "    <tr style=\"text-align: right;\">\n",
       "      <th></th>\n",
       "      <th>accommodates</th>\n",
       "      <th>bathrooms</th>\n",
       "      <th>cleaning_fee</th>\n",
       "      <th>review_scores_rating</th>\n",
       "      <th>bedrooms</th>\n",
       "      <th>beds</th>\n",
       "      <th>log_price</th>\n",
       "    </tr>\n",
       "  </thead>\n",
       "  <tbody>\n",
       "    <tr>\n",
       "      <th>count</th>\n",
       "      <td>74108.000000</td>\n",
       "      <td>73908.000000</td>\n",
       "      <td>74107.000000</td>\n",
       "      <td>57389.000000</td>\n",
       "      <td>74019.000000</td>\n",
       "      <td>73980.000000</td>\n",
       "      <td>74111.000000</td>\n",
       "    </tr>\n",
       "    <tr>\n",
       "      <th>mean</th>\n",
       "      <td>3.155125</td>\n",
       "      <td>1.235272</td>\n",
       "      <td>0.734060</td>\n",
       "      <td>94.067365</td>\n",
       "      <td>1.265797</td>\n",
       "      <td>1.710868</td>\n",
       "      <td>4.782069</td>\n",
       "    </tr>\n",
       "    <tr>\n",
       "      <th>std</th>\n",
       "      <td>2.153603</td>\n",
       "      <td>0.582054</td>\n",
       "      <td>0.441835</td>\n",
       "      <td>7.836556</td>\n",
       "      <td>0.852149</td>\n",
       "      <td>1.254142</td>\n",
       "      <td>0.717394</td>\n",
       "    </tr>\n",
       "    <tr>\n",
       "      <th>min</th>\n",
       "      <td>1.000000</td>\n",
       "      <td>0.000000</td>\n",
       "      <td>0.000000</td>\n",
       "      <td>20.000000</td>\n",
       "      <td>0.000000</td>\n",
       "      <td>0.000000</td>\n",
       "      <td>0.000000</td>\n",
       "    </tr>\n",
       "    <tr>\n",
       "      <th>25%</th>\n",
       "      <td>2.000000</td>\n",
       "      <td>1.000000</td>\n",
       "      <td>0.000000</td>\n",
       "      <td>92.000000</td>\n",
       "      <td>1.000000</td>\n",
       "      <td>1.000000</td>\n",
       "      <td>4.317488</td>\n",
       "    </tr>\n",
       "    <tr>\n",
       "      <th>50%</th>\n",
       "      <td>2.000000</td>\n",
       "      <td>1.000000</td>\n",
       "      <td>1.000000</td>\n",
       "      <td>96.000000</td>\n",
       "      <td>1.000000</td>\n",
       "      <td>1.000000</td>\n",
       "      <td>4.709530</td>\n",
       "    </tr>\n",
       "    <tr>\n",
       "      <th>75%</th>\n",
       "      <td>4.000000</td>\n",
       "      <td>1.000000</td>\n",
       "      <td>1.000000</td>\n",
       "      <td>100.000000</td>\n",
       "      <td>1.000000</td>\n",
       "      <td>2.000000</td>\n",
       "      <td>5.220356</td>\n",
       "    </tr>\n",
       "    <tr>\n",
       "      <th>max</th>\n",
       "      <td>16.000000</td>\n",
       "      <td>8.000000</td>\n",
       "      <td>1.000000</td>\n",
       "      <td>100.000000</td>\n",
       "      <td>10.000000</td>\n",
       "      <td>18.000000</td>\n",
       "      <td>7.600402</td>\n",
       "    </tr>\n",
       "  </tbody>\n",
       "</table>\n",
       "</div>"
      ],
      "text/plain": [
       "       accommodates     bathrooms  cleaning_fee  review_scores_rating  \\\n",
       "count  74108.000000  73908.000000  74107.000000          57389.000000   \n",
       "mean       3.155125      1.235272      0.734060             94.067365   \n",
       "std        2.153603      0.582054      0.441835              7.836556   \n",
       "min        1.000000      0.000000      0.000000             20.000000   \n",
       "25%        2.000000      1.000000      0.000000             92.000000   \n",
       "50%        2.000000      1.000000      1.000000             96.000000   \n",
       "75%        4.000000      1.000000      1.000000            100.000000   \n",
       "max       16.000000      8.000000      1.000000            100.000000   \n",
       "\n",
       "           bedrooms          beds     log_price  \n",
       "count  74019.000000  73980.000000  74111.000000  \n",
       "mean       1.265797      1.710868      4.782069  \n",
       "std        0.852149      1.254142      0.717394  \n",
       "min        0.000000      0.000000      0.000000  \n",
       "25%        1.000000      1.000000      4.317488  \n",
       "50%        1.000000      1.000000      4.709530  \n",
       "75%        1.000000      2.000000      5.220356  \n",
       "max       10.000000     18.000000      7.600402  "
      ]
     },
     "execution_count": 13,
     "metadata": {},
     "output_type": "execute_result"
    }
   ],
   "source": [
    "df.describe()"
   ]
  },
  {
   "cell_type": "markdown",
   "id": "784c238d-d3bb-4c33-a87d-cf5e156c1cdc",
   "metadata": {},
   "source": [
    "The count of numbers after decimal place is too high. Let us keep it to 2 decimal places and also Transpose the view!"
   ]
  },
  {
   "cell_type": "code",
   "execution_count": 14,
   "id": "1aaccd8c-e08e-4504-911c-234eca1beb31",
   "metadata": {},
   "outputs": [
    {
     "data": {
      "text/html": [
       "<div>\n",
       "<style scoped>\n",
       "    .dataframe tbody tr th:only-of-type {\n",
       "        vertical-align: middle;\n",
       "    }\n",
       "\n",
       "    .dataframe tbody tr th {\n",
       "        vertical-align: top;\n",
       "    }\n",
       "\n",
       "    .dataframe thead th {\n",
       "        text-align: right;\n",
       "    }\n",
       "</style>\n",
       "<table border=\"1\" class=\"dataframe\">\n",
       "  <thead>\n",
       "    <tr style=\"text-align: right;\">\n",
       "      <th></th>\n",
       "      <th>count</th>\n",
       "      <th>mean</th>\n",
       "      <th>std</th>\n",
       "      <th>min</th>\n",
       "      <th>25%</th>\n",
       "      <th>50%</th>\n",
       "      <th>75%</th>\n",
       "      <th>max</th>\n",
       "    </tr>\n",
       "  </thead>\n",
       "  <tbody>\n",
       "    <tr>\n",
       "      <th>accommodates</th>\n",
       "      <td>74108.0</td>\n",
       "      <td>3.16</td>\n",
       "      <td>2.15</td>\n",
       "      <td>1.0</td>\n",
       "      <td>2.00</td>\n",
       "      <td>2.00</td>\n",
       "      <td>4.00</td>\n",
       "      <td>16.0</td>\n",
       "    </tr>\n",
       "    <tr>\n",
       "      <th>bathrooms</th>\n",
       "      <td>73908.0</td>\n",
       "      <td>1.24</td>\n",
       "      <td>0.58</td>\n",
       "      <td>0.0</td>\n",
       "      <td>1.00</td>\n",
       "      <td>1.00</td>\n",
       "      <td>1.00</td>\n",
       "      <td>8.0</td>\n",
       "    </tr>\n",
       "    <tr>\n",
       "      <th>cleaning_fee</th>\n",
       "      <td>74107.0</td>\n",
       "      <td>0.73</td>\n",
       "      <td>0.44</td>\n",
       "      <td>0.0</td>\n",
       "      <td>0.00</td>\n",
       "      <td>1.00</td>\n",
       "      <td>1.00</td>\n",
       "      <td>1.0</td>\n",
       "    </tr>\n",
       "    <tr>\n",
       "      <th>review_scores_rating</th>\n",
       "      <td>57389.0</td>\n",
       "      <td>94.07</td>\n",
       "      <td>7.84</td>\n",
       "      <td>20.0</td>\n",
       "      <td>92.00</td>\n",
       "      <td>96.00</td>\n",
       "      <td>100.00</td>\n",
       "      <td>100.0</td>\n",
       "    </tr>\n",
       "    <tr>\n",
       "      <th>bedrooms</th>\n",
       "      <td>74019.0</td>\n",
       "      <td>1.27</td>\n",
       "      <td>0.85</td>\n",
       "      <td>0.0</td>\n",
       "      <td>1.00</td>\n",
       "      <td>1.00</td>\n",
       "      <td>1.00</td>\n",
       "      <td>10.0</td>\n",
       "    </tr>\n",
       "    <tr>\n",
       "      <th>beds</th>\n",
       "      <td>73980.0</td>\n",
       "      <td>1.71</td>\n",
       "      <td>1.25</td>\n",
       "      <td>0.0</td>\n",
       "      <td>1.00</td>\n",
       "      <td>1.00</td>\n",
       "      <td>2.00</td>\n",
       "      <td>18.0</td>\n",
       "    </tr>\n",
       "    <tr>\n",
       "      <th>log_price</th>\n",
       "      <td>74111.0</td>\n",
       "      <td>4.78</td>\n",
       "      <td>0.72</td>\n",
       "      <td>0.0</td>\n",
       "      <td>4.32</td>\n",
       "      <td>4.71</td>\n",
       "      <td>5.22</td>\n",
       "      <td>7.6</td>\n",
       "    </tr>\n",
       "  </tbody>\n",
       "</table>\n",
       "</div>"
      ],
      "text/plain": [
       "                        count   mean   std   min    25%    50%     75%    max\n",
       "accommodates          74108.0   3.16  2.15   1.0   2.00   2.00    4.00   16.0\n",
       "bathrooms             73908.0   1.24  0.58   0.0   1.00   1.00    1.00    8.0\n",
       "cleaning_fee          74107.0   0.73  0.44   0.0   0.00   1.00    1.00    1.0\n",
       "review_scores_rating  57389.0  94.07  7.84  20.0  92.00  96.00  100.00  100.0\n",
       "bedrooms              74019.0   1.27  0.85   0.0   1.00   1.00    1.00   10.0\n",
       "beds                  73980.0   1.71  1.25   0.0   1.00   1.00    2.00   18.0\n",
       "log_price             74111.0   4.78  0.72   0.0   4.32   4.71    5.22    7.6"
      ]
     },
     "execution_count": 14,
     "metadata": {},
     "output_type": "execute_result"
    }
   ],
   "source": [
    "round(df.describe(),2).T"
   ]
  },
  {
   "cell_type": "markdown",
   "id": "97def79b-7d65-4268-b002-d71a86c52d8b",
   "metadata": {},
   "source": [
    "Now there are 3 Columns that are Object Oriented. Lets us watch the different type of entries in the Object Data Columns."
   ]
  },
  {
   "cell_type": "code",
   "execution_count": 15,
   "id": "d14f1ffc-cff8-428b-9062-b9f50f26fa07",
   "metadata": {},
   "outputs": [
    {
     "data": {
      "text/plain": [
       "array(['Entire home/apt', 'Private room', 'Shared room', nan],\n",
       "      dtype=object)"
      ]
     },
     "execution_count": 15,
     "metadata": {},
     "output_type": "execute_result"
    }
   ],
   "source": [
    "df['room_type'].unique()"
   ]
  },
  {
   "cell_type": "markdown",
   "id": "b15e37b0-9bd3-4ce7-94bb-a6377266b222",
   "metadata": {},
   "source": [
    "We clearly see that there are nan values in 'room type' column. However they are not counted as unique."
   ]
  },
  {
   "cell_type": "code",
   "execution_count": 16,
   "id": "e399014c-f7e8-404f-96c4-57a274216413",
   "metadata": {},
   "outputs": [
    {
     "data": {
      "text/plain": [
       "3"
      ]
     },
     "execution_count": 16,
     "metadata": {},
     "output_type": "execute_result"
    }
   ],
   "source": [
    "df['room_type'].nunique()"
   ]
  },
  {
   "cell_type": "code",
   "execution_count": 17,
   "id": "5c2fdc32-0247-4065-9f64-d1fda5e8fb92",
   "metadata": {},
   "outputs": [
    {
     "data": {
      "text/plain": [
       "instant_bookable\n",
       "f    54660\n",
       "t    19451\n",
       "Name: count, dtype: int64"
      ]
     },
     "execution_count": 17,
     "metadata": {},
     "output_type": "execute_result"
    }
   ],
   "source": [
    "df['instant_bookable'].value_counts()"
   ]
  },
  {
   "cell_type": "markdown",
   "id": "ad2d89a9-ea7d-49f4-824d-b26c19f4ee2e",
   "metadata": {},
   "source": [
    "Now we understand the unique entries in each of the Object Oriented Columns. We must also know the count of each unique entry!"
   ]
  },
  {
   "cell_type": "code",
   "execution_count": 18,
   "id": "3f43597a-1e1c-46e3-9e64-e64daee3baa6",
   "metadata": {},
   "outputs": [
    {
     "name": "stdout",
     "output_type": "stream",
     "text": [
      "ROOM_TYPE : 3\n",
      "room_type\n",
      "Entire home/apt    41308\n",
      "Private room       30635\n",
      "Shared room         2163\n",
      "NaN                    5\n",
      "Name: count, dtype: int64\n",
      "\n",
      "CANCELLATION_POLICY : 3\n",
      "cancellation_policy\n",
      "strict      32500\n",
      "flexible    22543\n",
      "moderate    19060\n",
      "NaN             8\n",
      "Name: count, dtype: int64\n",
      "\n",
      "INSTANT_BOOKABLE : 2\n",
      "instant_bookable\n",
      "f    54660\n",
      "t    19451\n",
      "Name: count, dtype: int64\n",
      "\n"
     ]
    }
   ],
   "source": [
    "for column in df.columns:\n",
    "    if df[column].dtype == 'object':\n",
    "        print(column.upper(), ':', df[column].nunique())\n",
    "        print(df[column].value_counts(dropna=False))\n",
    "        print()"
   ]
  },
  {
   "cell_type": "markdown",
   "id": "4bce91e3-6c71-49be-be46-00292e59d855",
   "metadata": {},
   "source": [
    "Uptill now we have tried to understand the Data Frame and Data but have not performed any major operations except for dropping the 'id' Column."
   ]
  },
  {
   "cell_type": "markdown",
   "id": "43a502f8-a713-48a3-9506-13f203d80635",
   "metadata": {
    "jp-MarkdownHeadingCollapsed": true
   },
   "source": [
    "### Removing Duplicate Rows"
   ]
  },
  {
   "cell_type": "markdown",
   "id": "a8931746-53bd-4afd-a823-ba2311c73709",
   "metadata": {},
   "source": [
    "Now we must remove duplicate rows from the DataFrame as having duplicate Rows create weightage that imbalance the Data Frame."
   ]
  },
  {
   "cell_type": "code",
   "execution_count": 19,
   "id": "9d97d507-4fcb-4af3-a6fe-63f4b0bac56f",
   "metadata": {},
   "outputs": [],
   "source": [
    "df_2 = df.copy() # Creating a Copy of Original Data Frame for safe side purpose"
   ]
  },
  {
   "cell_type": "code",
   "execution_count": 20,
   "id": "f6919aa9-8411-494b-b178-b21d5794f687",
   "metadata": {},
   "outputs": [],
   "source": [
    "df_2.drop_duplicates(inplace=True)"
   ]
  },
  {
   "cell_type": "code",
   "execution_count": 21,
   "id": "aac60676-8193-4b46-ad73-d3a0e6e809e8",
   "metadata": {},
   "outputs": [
    {
     "data": {
      "text/html": [
       "<div>\n",
       "<style scoped>\n",
       "    .dataframe tbody tr th:only-of-type {\n",
       "        vertical-align: middle;\n",
       "    }\n",
       "\n",
       "    .dataframe tbody tr th {\n",
       "        vertical-align: top;\n",
       "    }\n",
       "\n",
       "    .dataframe thead th {\n",
       "        text-align: right;\n",
       "    }\n",
       "</style>\n",
       "<table border=\"1\" class=\"dataframe\">\n",
       "  <thead>\n",
       "    <tr style=\"text-align: right;\">\n",
       "      <th></th>\n",
       "      <th>room_type</th>\n",
       "      <th>accommodates</th>\n",
       "      <th>bathrooms</th>\n",
       "      <th>cancellation_policy</th>\n",
       "      <th>cleaning_fee</th>\n",
       "      <th>instant_bookable</th>\n",
       "      <th>review_scores_rating</th>\n",
       "      <th>bedrooms</th>\n",
       "      <th>beds</th>\n",
       "      <th>log_price</th>\n",
       "    </tr>\n",
       "  </thead>\n",
       "  <tbody>\n",
       "    <tr>\n",
       "      <th>0</th>\n",
       "      <td>Entire home/apt</td>\n",
       "      <td>3.0</td>\n",
       "      <td>1.0</td>\n",
       "      <td>strict</td>\n",
       "      <td>1.0</td>\n",
       "      <td>f</td>\n",
       "      <td>100.0</td>\n",
       "      <td>1.0</td>\n",
       "      <td>1.0</td>\n",
       "      <td>5.010635</td>\n",
       "    </tr>\n",
       "    <tr>\n",
       "      <th>1</th>\n",
       "      <td>Entire home/apt</td>\n",
       "      <td>7.0</td>\n",
       "      <td>1.0</td>\n",
       "      <td>strict</td>\n",
       "      <td>1.0</td>\n",
       "      <td>t</td>\n",
       "      <td>93.0</td>\n",
       "      <td>3.0</td>\n",
       "      <td>3.0</td>\n",
       "      <td>5.129899</td>\n",
       "    </tr>\n",
       "    <tr>\n",
       "      <th>2</th>\n",
       "      <td>Entire home/apt</td>\n",
       "      <td>5.0</td>\n",
       "      <td>1.0</td>\n",
       "      <td>moderate</td>\n",
       "      <td>1.0</td>\n",
       "      <td>t</td>\n",
       "      <td>92.0</td>\n",
       "      <td>1.0</td>\n",
       "      <td>3.0</td>\n",
       "      <td>4.976734</td>\n",
       "    </tr>\n",
       "    <tr>\n",
       "      <th>3</th>\n",
       "      <td>Entire home/apt</td>\n",
       "      <td>4.0</td>\n",
       "      <td>1.0</td>\n",
       "      <td>flexible</td>\n",
       "      <td>1.0</td>\n",
       "      <td>f</td>\n",
       "      <td>NaN</td>\n",
       "      <td>2.0</td>\n",
       "      <td>2.0</td>\n",
       "      <td>6.620073</td>\n",
       "    </tr>\n",
       "    <tr>\n",
       "      <th>4</th>\n",
       "      <td>Entire home/apt</td>\n",
       "      <td>2.0</td>\n",
       "      <td>1.0</td>\n",
       "      <td>moderate</td>\n",
       "      <td>1.0</td>\n",
       "      <td>t</td>\n",
       "      <td>40.0</td>\n",
       "      <td>0.0</td>\n",
       "      <td>1.0</td>\n",
       "      <td>4.744932</td>\n",
       "    </tr>\n",
       "    <tr>\n",
       "      <th>...</th>\n",
       "      <td>...</td>\n",
       "      <td>...</td>\n",
       "      <td>...</td>\n",
       "      <td>...</td>\n",
       "      <td>...</td>\n",
       "      <td>...</td>\n",
       "      <td>...</td>\n",
       "      <td>...</td>\n",
       "      <td>...</td>\n",
       "      <td>...</td>\n",
       "    </tr>\n",
       "    <tr>\n",
       "      <th>74104</th>\n",
       "      <td>Entire home/apt</td>\n",
       "      <td>2.0</td>\n",
       "      <td>1.0</td>\n",
       "      <td>strict</td>\n",
       "      <td>1.0</td>\n",
       "      <td>f</td>\n",
       "      <td>100.0</td>\n",
       "      <td>1.0</td>\n",
       "      <td>1.0</td>\n",
       "      <td>4.356709</td>\n",
       "    </tr>\n",
       "    <tr>\n",
       "      <th>74107</th>\n",
       "      <td>Entire home/apt</td>\n",
       "      <td>4.0</td>\n",
       "      <td>2.0</td>\n",
       "      <td>moderate</td>\n",
       "      <td>1.0</td>\n",
       "      <td>f</td>\n",
       "      <td>93.0</td>\n",
       "      <td>2.0</td>\n",
       "      <td>4.0</td>\n",
       "      <td>5.043425</td>\n",
       "    </tr>\n",
       "    <tr>\n",
       "      <th>74108</th>\n",
       "      <td>Entire home/apt</td>\n",
       "      <td>5.0</td>\n",
       "      <td>1.0</td>\n",
       "      <td>moderate</td>\n",
       "      <td>1.0</td>\n",
       "      <td>t</td>\n",
       "      <td>94.0</td>\n",
       "      <td>2.0</td>\n",
       "      <td>2.0</td>\n",
       "      <td>5.220356</td>\n",
       "    </tr>\n",
       "    <tr>\n",
       "      <th>74109</th>\n",
       "      <td>Entire home/apt</td>\n",
       "      <td>2.0</td>\n",
       "      <td>1.0</td>\n",
       "      <td>strict</td>\n",
       "      <td>1.0</td>\n",
       "      <td>t</td>\n",
       "      <td>NaN</td>\n",
       "      <td>0.0</td>\n",
       "      <td>2.0</td>\n",
       "      <td>5.273000</td>\n",
       "    </tr>\n",
       "    <tr>\n",
       "      <th>74110</th>\n",
       "      <td>Entire home/apt</td>\n",
       "      <td>4.0</td>\n",
       "      <td>1.0</td>\n",
       "      <td>moderate</td>\n",
       "      <td>0.0</td>\n",
       "      <td>f</td>\n",
       "      <td>96.0</td>\n",
       "      <td>1.0</td>\n",
       "      <td>2.0</td>\n",
       "      <td>4.852030</td>\n",
       "    </tr>\n",
       "  </tbody>\n",
       "</table>\n",
       "<p>54117 rows × 10 columns</p>\n",
       "</div>"
      ],
      "text/plain": [
       "             room_type  accommodates  bathrooms cancellation_policy  \\\n",
       "0      Entire home/apt           3.0        1.0              strict   \n",
       "1      Entire home/apt           7.0        1.0              strict   \n",
       "2      Entire home/apt           5.0        1.0            moderate   \n",
       "3      Entire home/apt           4.0        1.0            flexible   \n",
       "4      Entire home/apt           2.0        1.0            moderate   \n",
       "...                ...           ...        ...                 ...   \n",
       "74104  Entire home/apt           2.0        1.0              strict   \n",
       "74107  Entire home/apt           4.0        2.0            moderate   \n",
       "74108  Entire home/apt           5.0        1.0            moderate   \n",
       "74109  Entire home/apt           2.0        1.0              strict   \n",
       "74110  Entire home/apt           4.0        1.0            moderate   \n",
       "\n",
       "       cleaning_fee instant_bookable  review_scores_rating  bedrooms  beds  \\\n",
       "0               1.0                f                 100.0       1.0   1.0   \n",
       "1               1.0                t                  93.0       3.0   3.0   \n",
       "2               1.0                t                  92.0       1.0   3.0   \n",
       "3               1.0                f                   NaN       2.0   2.0   \n",
       "4               1.0                t                  40.0       0.0   1.0   \n",
       "...             ...              ...                   ...       ...   ...   \n",
       "74104           1.0                f                 100.0       1.0   1.0   \n",
       "74107           1.0                f                  93.0       2.0   4.0   \n",
       "74108           1.0                t                  94.0       2.0   2.0   \n",
       "74109           1.0                t                   NaN       0.0   2.0   \n",
       "74110           0.0                f                  96.0       1.0   2.0   \n",
       "\n",
       "       log_price  \n",
       "0       5.010635  \n",
       "1       5.129899  \n",
       "2       4.976734  \n",
       "3       6.620073  \n",
       "4       4.744932  \n",
       "...          ...  \n",
       "74104   4.356709  \n",
       "74107   5.043425  \n",
       "74108   5.220356  \n",
       "74109   5.273000  \n",
       "74110   4.852030  \n",
       "\n",
       "[54117 rows x 10 columns]"
      ]
     },
     "execution_count": 21,
     "metadata": {},
     "output_type": "execute_result"
    }
   ],
   "source": [
    "df_2"
   ]
  },
  {
   "cell_type": "markdown",
   "id": "a6c410f8-f612-4ef8-925c-c219ee8273f8",
   "metadata": {},
   "source": [
    "### Checking for Null Values"
   ]
  },
  {
   "cell_type": "markdown",
   "id": "adc08c91-66c6-4add-af53-892763eafd8f",
   "metadata": {},
   "source": [
    "Let us check for Null Values!"
   ]
  },
  {
   "cell_type": "code",
   "execution_count": 22,
   "id": "5de19d11-23d0-4329-ac1d-0ab35b139717",
   "metadata": {},
   "outputs": [
    {
     "data": {
      "text/html": [
       "<div>\n",
       "<style scoped>\n",
       "    .dataframe tbody tr th:only-of-type {\n",
       "        vertical-align: middle;\n",
       "    }\n",
       "\n",
       "    .dataframe tbody tr th {\n",
       "        vertical-align: top;\n",
       "    }\n",
       "\n",
       "    .dataframe thead th {\n",
       "        text-align: right;\n",
       "    }\n",
       "</style>\n",
       "<table border=\"1\" class=\"dataframe\">\n",
       "  <thead>\n",
       "    <tr style=\"text-align: right;\">\n",
       "      <th></th>\n",
       "      <th>room_type</th>\n",
       "      <th>accommodates</th>\n",
       "      <th>bathrooms</th>\n",
       "      <th>cancellation_policy</th>\n",
       "      <th>cleaning_fee</th>\n",
       "      <th>instant_bookable</th>\n",
       "      <th>review_scores_rating</th>\n",
       "      <th>bedrooms</th>\n",
       "      <th>beds</th>\n",
       "      <th>log_price</th>\n",
       "    </tr>\n",
       "  </thead>\n",
       "  <tbody>\n",
       "    <tr>\n",
       "      <th>0</th>\n",
       "      <td>False</td>\n",
       "      <td>False</td>\n",
       "      <td>False</td>\n",
       "      <td>False</td>\n",
       "      <td>False</td>\n",
       "      <td>False</td>\n",
       "      <td>False</td>\n",
       "      <td>False</td>\n",
       "      <td>False</td>\n",
       "      <td>False</td>\n",
       "    </tr>\n",
       "    <tr>\n",
       "      <th>1</th>\n",
       "      <td>False</td>\n",
       "      <td>False</td>\n",
       "      <td>False</td>\n",
       "      <td>False</td>\n",
       "      <td>False</td>\n",
       "      <td>False</td>\n",
       "      <td>False</td>\n",
       "      <td>False</td>\n",
       "      <td>False</td>\n",
       "      <td>False</td>\n",
       "    </tr>\n",
       "    <tr>\n",
       "      <th>2</th>\n",
       "      <td>False</td>\n",
       "      <td>False</td>\n",
       "      <td>False</td>\n",
       "      <td>False</td>\n",
       "      <td>False</td>\n",
       "      <td>False</td>\n",
       "      <td>False</td>\n",
       "      <td>False</td>\n",
       "      <td>False</td>\n",
       "      <td>False</td>\n",
       "    </tr>\n",
       "    <tr>\n",
       "      <th>3</th>\n",
       "      <td>False</td>\n",
       "      <td>False</td>\n",
       "      <td>False</td>\n",
       "      <td>False</td>\n",
       "      <td>False</td>\n",
       "      <td>False</td>\n",
       "      <td>True</td>\n",
       "      <td>False</td>\n",
       "      <td>False</td>\n",
       "      <td>False</td>\n",
       "    </tr>\n",
       "    <tr>\n",
       "      <th>4</th>\n",
       "      <td>False</td>\n",
       "      <td>False</td>\n",
       "      <td>False</td>\n",
       "      <td>False</td>\n",
       "      <td>False</td>\n",
       "      <td>False</td>\n",
       "      <td>False</td>\n",
       "      <td>False</td>\n",
       "      <td>False</td>\n",
       "      <td>False</td>\n",
       "    </tr>\n",
       "    <tr>\n",
       "      <th>...</th>\n",
       "      <td>...</td>\n",
       "      <td>...</td>\n",
       "      <td>...</td>\n",
       "      <td>...</td>\n",
       "      <td>...</td>\n",
       "      <td>...</td>\n",
       "      <td>...</td>\n",
       "      <td>...</td>\n",
       "      <td>...</td>\n",
       "      <td>...</td>\n",
       "    </tr>\n",
       "    <tr>\n",
       "      <th>74104</th>\n",
       "      <td>False</td>\n",
       "      <td>False</td>\n",
       "      <td>False</td>\n",
       "      <td>False</td>\n",
       "      <td>False</td>\n",
       "      <td>False</td>\n",
       "      <td>False</td>\n",
       "      <td>False</td>\n",
       "      <td>False</td>\n",
       "      <td>False</td>\n",
       "    </tr>\n",
       "    <tr>\n",
       "      <th>74107</th>\n",
       "      <td>False</td>\n",
       "      <td>False</td>\n",
       "      <td>False</td>\n",
       "      <td>False</td>\n",
       "      <td>False</td>\n",
       "      <td>False</td>\n",
       "      <td>False</td>\n",
       "      <td>False</td>\n",
       "      <td>False</td>\n",
       "      <td>False</td>\n",
       "    </tr>\n",
       "    <tr>\n",
       "      <th>74108</th>\n",
       "      <td>False</td>\n",
       "      <td>False</td>\n",
       "      <td>False</td>\n",
       "      <td>False</td>\n",
       "      <td>False</td>\n",
       "      <td>False</td>\n",
       "      <td>False</td>\n",
       "      <td>False</td>\n",
       "      <td>False</td>\n",
       "      <td>False</td>\n",
       "    </tr>\n",
       "    <tr>\n",
       "      <th>74109</th>\n",
       "      <td>False</td>\n",
       "      <td>False</td>\n",
       "      <td>False</td>\n",
       "      <td>False</td>\n",
       "      <td>False</td>\n",
       "      <td>False</td>\n",
       "      <td>True</td>\n",
       "      <td>False</td>\n",
       "      <td>False</td>\n",
       "      <td>False</td>\n",
       "    </tr>\n",
       "    <tr>\n",
       "      <th>74110</th>\n",
       "      <td>False</td>\n",
       "      <td>False</td>\n",
       "      <td>False</td>\n",
       "      <td>False</td>\n",
       "      <td>False</td>\n",
       "      <td>False</td>\n",
       "      <td>False</td>\n",
       "      <td>False</td>\n",
       "      <td>False</td>\n",
       "      <td>False</td>\n",
       "    </tr>\n",
       "  </tbody>\n",
       "</table>\n",
       "<p>54117 rows × 10 columns</p>\n",
       "</div>"
      ],
      "text/plain": [
       "       room_type  accommodates  bathrooms  cancellation_policy  cleaning_fee  \\\n",
       "0          False         False      False                False         False   \n",
       "1          False         False      False                False         False   \n",
       "2          False         False      False                False         False   \n",
       "3          False         False      False                False         False   \n",
       "4          False         False      False                False         False   \n",
       "...          ...           ...        ...                  ...           ...   \n",
       "74104      False         False      False                False         False   \n",
       "74107      False         False      False                False         False   \n",
       "74108      False         False      False                False         False   \n",
       "74109      False         False      False                False         False   \n",
       "74110      False         False      False                False         False   \n",
       "\n",
       "       instant_bookable  review_scores_rating  bedrooms   beds  log_price  \n",
       "0                 False                 False     False  False      False  \n",
       "1                 False                 False     False  False      False  \n",
       "2                 False                 False     False  False      False  \n",
       "3                 False                  True     False  False      False  \n",
       "4                 False                 False     False  False      False  \n",
       "...                 ...                   ...       ...    ...        ...  \n",
       "74104             False                 False     False  False      False  \n",
       "74107             False                 False     False  False      False  \n",
       "74108             False                 False     False  False      False  \n",
       "74109             False                  True     False  False      False  \n",
       "74110             False                 False     False  False      False  \n",
       "\n",
       "[54117 rows x 10 columns]"
      ]
     },
     "execution_count": 22,
     "metadata": {},
     "output_type": "execute_result"
    }
   ],
   "source": [
    "df_2.isnull()"
   ]
  },
  {
   "cell_type": "markdown",
   "id": "f881ebea-f5cf-4576-bfb8-5ff41214da97",
   "metadata": {},
   "source": [
    "Above gives a very inefficient way of looking at the Data Frame and its null values."
   ]
  },
  {
   "cell_type": "code",
   "execution_count": 23,
   "id": "a8ee40dc-8226-4d15-947e-7fdb03d4eb6e",
   "metadata": {},
   "outputs": [
    {
     "data": {
      "text/plain": [
       "room_type                   5\n",
       "accommodates                3\n",
       "bathrooms                 195\n",
       "cancellation_policy         8\n",
       "cleaning_fee                4\n",
       "instant_bookable            0\n",
       "review_scores_rating    10215\n",
       "bedrooms                   92\n",
       "beds                      125\n",
       "log_price                   0\n",
       "dtype: int64"
      ]
     },
     "execution_count": 23,
     "metadata": {},
     "output_type": "execute_result"
    }
   ],
   "source": [
    "df_2.isnull().sum()"
   ]
  },
  {
   "cell_type": "markdown",
   "id": "a07459b7-22df-44b1-b75f-1babfd91cbca",
   "metadata": {},
   "source": [
    "### Data Preparation"
   ]
  },
  {
   "cell_type": "markdown",
   "id": "8c5a61fc",
   "metadata": {},
   "source": [
    "We have noticed uptill now that there are 3 Columns which contain Categorical Variable. These are useless in Data Modeling as Data Modeling requires Numeric Variables. We can use pd.get_dummies() method to replace Categorical Variable with Numeric Types."
   ]
  },
  {
   "cell_type": "code",
   "execution_count": 24,
   "id": "9e8b452e",
   "metadata": {},
   "outputs": [
    {
     "data": {
      "text/html": [
       "<div>\n",
       "<style scoped>\n",
       "    .dataframe tbody tr th:only-of-type {\n",
       "        vertical-align: middle;\n",
       "    }\n",
       "\n",
       "    .dataframe tbody tr th {\n",
       "        vertical-align: top;\n",
       "    }\n",
       "\n",
       "    .dataframe thead th {\n",
       "        text-align: right;\n",
       "    }\n",
       "</style>\n",
       "<table border=\"1\" class=\"dataframe\">\n",
       "  <thead>\n",
       "    <tr style=\"text-align: right;\">\n",
       "      <th></th>\n",
       "      <th>accommodates</th>\n",
       "      <th>bathrooms</th>\n",
       "      <th>cleaning_fee</th>\n",
       "      <th>review_scores_rating</th>\n",
       "      <th>bedrooms</th>\n",
       "      <th>beds</th>\n",
       "      <th>log_price</th>\n",
       "      <th>room_type_Entire home/apt</th>\n",
       "      <th>room_type_Private room</th>\n",
       "      <th>room_type_Shared room</th>\n",
       "      <th>cancellation_policy_flexible</th>\n",
       "      <th>cancellation_policy_moderate</th>\n",
       "      <th>cancellation_policy_strict</th>\n",
       "      <th>instant_bookable_f</th>\n",
       "      <th>instant_bookable_t</th>\n",
       "    </tr>\n",
       "  </thead>\n",
       "  <tbody>\n",
       "    <tr>\n",
       "      <th>0</th>\n",
       "      <td>3.0</td>\n",
       "      <td>1.0</td>\n",
       "      <td>1.0</td>\n",
       "      <td>100.0</td>\n",
       "      <td>1.0</td>\n",
       "      <td>1.0</td>\n",
       "      <td>5.010635</td>\n",
       "      <td>True</td>\n",
       "      <td>False</td>\n",
       "      <td>False</td>\n",
       "      <td>False</td>\n",
       "      <td>False</td>\n",
       "      <td>True</td>\n",
       "      <td>True</td>\n",
       "      <td>False</td>\n",
       "    </tr>\n",
       "    <tr>\n",
       "      <th>1</th>\n",
       "      <td>7.0</td>\n",
       "      <td>1.0</td>\n",
       "      <td>1.0</td>\n",
       "      <td>93.0</td>\n",
       "      <td>3.0</td>\n",
       "      <td>3.0</td>\n",
       "      <td>5.129899</td>\n",
       "      <td>True</td>\n",
       "      <td>False</td>\n",
       "      <td>False</td>\n",
       "      <td>False</td>\n",
       "      <td>False</td>\n",
       "      <td>True</td>\n",
       "      <td>False</td>\n",
       "      <td>True</td>\n",
       "    </tr>\n",
       "    <tr>\n",
       "      <th>2</th>\n",
       "      <td>5.0</td>\n",
       "      <td>1.0</td>\n",
       "      <td>1.0</td>\n",
       "      <td>92.0</td>\n",
       "      <td>1.0</td>\n",
       "      <td>3.0</td>\n",
       "      <td>4.976734</td>\n",
       "      <td>True</td>\n",
       "      <td>False</td>\n",
       "      <td>False</td>\n",
       "      <td>False</td>\n",
       "      <td>True</td>\n",
       "      <td>False</td>\n",
       "      <td>False</td>\n",
       "      <td>True</td>\n",
       "    </tr>\n",
       "    <tr>\n",
       "      <th>3</th>\n",
       "      <td>4.0</td>\n",
       "      <td>1.0</td>\n",
       "      <td>1.0</td>\n",
       "      <td>NaN</td>\n",
       "      <td>2.0</td>\n",
       "      <td>2.0</td>\n",
       "      <td>6.620073</td>\n",
       "      <td>True</td>\n",
       "      <td>False</td>\n",
       "      <td>False</td>\n",
       "      <td>True</td>\n",
       "      <td>False</td>\n",
       "      <td>False</td>\n",
       "      <td>True</td>\n",
       "      <td>False</td>\n",
       "    </tr>\n",
       "    <tr>\n",
       "      <th>4</th>\n",
       "      <td>2.0</td>\n",
       "      <td>1.0</td>\n",
       "      <td>1.0</td>\n",
       "      <td>40.0</td>\n",
       "      <td>0.0</td>\n",
       "      <td>1.0</td>\n",
       "      <td>4.744932</td>\n",
       "      <td>True</td>\n",
       "      <td>False</td>\n",
       "      <td>False</td>\n",
       "      <td>False</td>\n",
       "      <td>True</td>\n",
       "      <td>False</td>\n",
       "      <td>False</td>\n",
       "      <td>True</td>\n",
       "    </tr>\n",
       "    <tr>\n",
       "      <th>...</th>\n",
       "      <td>...</td>\n",
       "      <td>...</td>\n",
       "      <td>...</td>\n",
       "      <td>...</td>\n",
       "      <td>...</td>\n",
       "      <td>...</td>\n",
       "      <td>...</td>\n",
       "      <td>...</td>\n",
       "      <td>...</td>\n",
       "      <td>...</td>\n",
       "      <td>...</td>\n",
       "      <td>...</td>\n",
       "      <td>...</td>\n",
       "      <td>...</td>\n",
       "      <td>...</td>\n",
       "    </tr>\n",
       "    <tr>\n",
       "      <th>74104</th>\n",
       "      <td>2.0</td>\n",
       "      <td>1.0</td>\n",
       "      <td>1.0</td>\n",
       "      <td>100.0</td>\n",
       "      <td>1.0</td>\n",
       "      <td>1.0</td>\n",
       "      <td>4.356709</td>\n",
       "      <td>True</td>\n",
       "      <td>False</td>\n",
       "      <td>False</td>\n",
       "      <td>False</td>\n",
       "      <td>False</td>\n",
       "      <td>True</td>\n",
       "      <td>True</td>\n",
       "      <td>False</td>\n",
       "    </tr>\n",
       "    <tr>\n",
       "      <th>74107</th>\n",
       "      <td>4.0</td>\n",
       "      <td>2.0</td>\n",
       "      <td>1.0</td>\n",
       "      <td>93.0</td>\n",
       "      <td>2.0</td>\n",
       "      <td>4.0</td>\n",
       "      <td>5.043425</td>\n",
       "      <td>True</td>\n",
       "      <td>False</td>\n",
       "      <td>False</td>\n",
       "      <td>False</td>\n",
       "      <td>True</td>\n",
       "      <td>False</td>\n",
       "      <td>True</td>\n",
       "      <td>False</td>\n",
       "    </tr>\n",
       "    <tr>\n",
       "      <th>74108</th>\n",
       "      <td>5.0</td>\n",
       "      <td>1.0</td>\n",
       "      <td>1.0</td>\n",
       "      <td>94.0</td>\n",
       "      <td>2.0</td>\n",
       "      <td>2.0</td>\n",
       "      <td>5.220356</td>\n",
       "      <td>True</td>\n",
       "      <td>False</td>\n",
       "      <td>False</td>\n",
       "      <td>False</td>\n",
       "      <td>True</td>\n",
       "      <td>False</td>\n",
       "      <td>False</td>\n",
       "      <td>True</td>\n",
       "    </tr>\n",
       "    <tr>\n",
       "      <th>74109</th>\n",
       "      <td>2.0</td>\n",
       "      <td>1.0</td>\n",
       "      <td>1.0</td>\n",
       "      <td>NaN</td>\n",
       "      <td>0.0</td>\n",
       "      <td>2.0</td>\n",
       "      <td>5.273000</td>\n",
       "      <td>True</td>\n",
       "      <td>False</td>\n",
       "      <td>False</td>\n",
       "      <td>False</td>\n",
       "      <td>False</td>\n",
       "      <td>True</td>\n",
       "      <td>False</td>\n",
       "      <td>True</td>\n",
       "    </tr>\n",
       "    <tr>\n",
       "      <th>74110</th>\n",
       "      <td>4.0</td>\n",
       "      <td>1.0</td>\n",
       "      <td>0.0</td>\n",
       "      <td>96.0</td>\n",
       "      <td>1.0</td>\n",
       "      <td>2.0</td>\n",
       "      <td>4.852030</td>\n",
       "      <td>True</td>\n",
       "      <td>False</td>\n",
       "      <td>False</td>\n",
       "      <td>False</td>\n",
       "      <td>True</td>\n",
       "      <td>False</td>\n",
       "      <td>True</td>\n",
       "      <td>False</td>\n",
       "    </tr>\n",
       "  </tbody>\n",
       "</table>\n",
       "<p>54117 rows × 15 columns</p>\n",
       "</div>"
      ],
      "text/plain": [
       "       accommodates  bathrooms  cleaning_fee  review_scores_rating  bedrooms  \\\n",
       "0               3.0        1.0           1.0                 100.0       1.0   \n",
       "1               7.0        1.0           1.0                  93.0       3.0   \n",
       "2               5.0        1.0           1.0                  92.0       1.0   \n",
       "3               4.0        1.0           1.0                   NaN       2.0   \n",
       "4               2.0        1.0           1.0                  40.0       0.0   \n",
       "...             ...        ...           ...                   ...       ...   \n",
       "74104           2.0        1.0           1.0                 100.0       1.0   \n",
       "74107           4.0        2.0           1.0                  93.0       2.0   \n",
       "74108           5.0        1.0           1.0                  94.0       2.0   \n",
       "74109           2.0        1.0           1.0                   NaN       0.0   \n",
       "74110           4.0        1.0           0.0                  96.0       1.0   \n",
       "\n",
       "       beds  log_price  room_type_Entire home/apt  room_type_Private room  \\\n",
       "0       1.0   5.010635                       True                   False   \n",
       "1       3.0   5.129899                       True                   False   \n",
       "2       3.0   4.976734                       True                   False   \n",
       "3       2.0   6.620073                       True                   False   \n",
       "4       1.0   4.744932                       True                   False   \n",
       "...     ...        ...                        ...                     ...   \n",
       "74104   1.0   4.356709                       True                   False   \n",
       "74107   4.0   5.043425                       True                   False   \n",
       "74108   2.0   5.220356                       True                   False   \n",
       "74109   2.0   5.273000                       True                   False   \n",
       "74110   2.0   4.852030                       True                   False   \n",
       "\n",
       "       room_type_Shared room  cancellation_policy_flexible  \\\n",
       "0                      False                         False   \n",
       "1                      False                         False   \n",
       "2                      False                         False   \n",
       "3                      False                          True   \n",
       "4                      False                         False   \n",
       "...                      ...                           ...   \n",
       "74104                  False                         False   \n",
       "74107                  False                         False   \n",
       "74108                  False                         False   \n",
       "74109                  False                         False   \n",
       "74110                  False                         False   \n",
       "\n",
       "       cancellation_policy_moderate  cancellation_policy_strict  \\\n",
       "0                             False                        True   \n",
       "1                             False                        True   \n",
       "2                              True                       False   \n",
       "3                             False                       False   \n",
       "4                              True                       False   \n",
       "...                             ...                         ...   \n",
       "74104                         False                        True   \n",
       "74107                          True                       False   \n",
       "74108                          True                       False   \n",
       "74109                         False                        True   \n",
       "74110                          True                       False   \n",
       "\n",
       "       instant_bookable_f  instant_bookable_t  \n",
       "0                    True               False  \n",
       "1                   False                True  \n",
       "2                   False                True  \n",
       "3                    True               False  \n",
       "4                   False                True  \n",
       "...                   ...                 ...  \n",
       "74104                True               False  \n",
       "74107                True               False  \n",
       "74108               False                True  \n",
       "74109               False                True  \n",
       "74110                True               False  \n",
       "\n",
       "[54117 rows x 15 columns]"
      ]
     },
     "execution_count": 24,
     "metadata": {},
     "output_type": "execute_result"
    }
   ],
   "source": [
    "df_3 = pd.get_dummies(df_2, columns=['room_type','cancellation_policy','instant_bookable'], drop_first=False)\n",
    "df_3"
   ]
  },
  {
   "cell_type": "markdown",
   "id": "1288648c",
   "metadata": {},
   "source": [
    "### Imputation"
   ]
  },
  {
   "cell_type": "markdown",
   "id": "e98aeb11",
   "metadata": {},
   "source": [
    "Now we are quite sure that Data Frame contains alot of Null Values. We can either replace them with mean or median. Let us replace it with both and create 2 Different Data Frames."
   ]
  },
  {
   "cell_type": "code",
   "execution_count": 25,
   "id": "7774f98f",
   "metadata": {},
   "outputs": [],
   "source": [
    "df_mean = df_3.copy()\n",
    "df_median = df_3.copy()"
   ]
  },
  {
   "cell_type": "markdown",
   "id": "df3f9a78",
   "metadata": {},
   "source": [
    "Before proceeding further, let us confirm the missing values in both data frames!"
   ]
  },
  {
   "cell_type": "code",
   "execution_count": 26,
   "id": "34dc4084",
   "metadata": {},
   "outputs": [
    {
     "data": {
      "text/plain": [
       "accommodates                        3\n",
       "bathrooms                         195\n",
       "cleaning_fee                        4\n",
       "review_scores_rating            10215\n",
       "bedrooms                           92\n",
       "beds                              125\n",
       "log_price                           0\n",
       "room_type_Entire home/apt           0\n",
       "room_type_Private room              0\n",
       "room_type_Shared room               0\n",
       "cancellation_policy_flexible        0\n",
       "cancellation_policy_moderate        0\n",
       "cancellation_policy_strict          0\n",
       "instant_bookable_f                  0\n",
       "instant_bookable_t                  0\n",
       "dtype: int64"
      ]
     },
     "execution_count": 26,
     "metadata": {},
     "output_type": "execute_result"
    }
   ],
   "source": [
    "df_mean.isnull().sum()"
   ]
  },
  {
   "cell_type": "code",
   "execution_count": 27,
   "id": "97b4ee18",
   "metadata": {},
   "outputs": [
    {
     "data": {
      "text/plain": [
       "accommodates                        3\n",
       "bathrooms                         195\n",
       "cleaning_fee                        4\n",
       "review_scores_rating            10215\n",
       "bedrooms                           92\n",
       "beds                              125\n",
       "log_price                           0\n",
       "room_type_Entire home/apt           0\n",
       "room_type_Private room              0\n",
       "room_type_Shared room               0\n",
       "cancellation_policy_flexible        0\n",
       "cancellation_policy_moderate        0\n",
       "cancellation_policy_strict          0\n",
       "instant_bookable_f                  0\n",
       "instant_bookable_t                  0\n",
       "dtype: int64"
      ]
     },
     "execution_count": 27,
     "metadata": {},
     "output_type": "execute_result"
    }
   ],
   "source": [
    "df_median.isnull().sum()"
   ]
  },
  {
   "cell_type": "code",
   "execution_count": 28,
   "id": "209894dc",
   "metadata": {},
   "outputs": [
    {
     "data": {
      "text/plain": [
       "Index(['accommodates', 'bathrooms', 'cleaning_fee', 'review_scores_rating',\n",
       "       'bedrooms', 'beds', 'log_price', 'room_type_Entire home/apt',\n",
       "       'room_type_Private room', 'room_type_Shared room',\n",
       "       'cancellation_policy_flexible', 'cancellation_policy_moderate',\n",
       "       'cancellation_policy_strict', 'instant_bookable_f',\n",
       "       'instant_bookable_t'],\n",
       "      dtype='object')"
      ]
     },
     "execution_count": 28,
     "metadata": {},
     "output_type": "execute_result"
    }
   ],
   "source": [
    "df_mean.columns"
   ]
  },
  {
   "cell_type": "code",
   "execution_count": 29,
   "id": "6e68983e",
   "metadata": {},
   "outputs": [],
   "source": [
    "for col in df_mean.columns:\n",
    "    if df_mean[col].dtype != 'object':\n",
    "        mean = df_mean[col].mean()\n",
    "        df_mean[col] = df_mean[col].fillna(mean)"
   ]
  },
  {
   "cell_type": "code",
   "execution_count": 30,
   "id": "126b4c7c",
   "metadata": {},
   "outputs": [],
   "source": [
    "for col in df_median.columns:\n",
    "    if df_median[col].dtype != 'object':\n",
    "        median = df_median[col].median()\n",
    "        df_median[col] = df_median[col].fillna(median)"
   ]
  },
  {
   "cell_type": "code",
   "execution_count": 31,
   "id": "171afe3d",
   "metadata": {},
   "outputs": [
    {
     "data": {
      "text/plain": [
       "accommodates                    0\n",
       "bathrooms                       0\n",
       "cleaning_fee                    0\n",
       "review_scores_rating            0\n",
       "bedrooms                        0\n",
       "beds                            0\n",
       "log_price                       0\n",
       "room_type_Entire home/apt       0\n",
       "room_type_Private room          0\n",
       "room_type_Shared room           0\n",
       "cancellation_policy_flexible    0\n",
       "cancellation_policy_moderate    0\n",
       "cancellation_policy_strict      0\n",
       "instant_bookable_f              0\n",
       "instant_bookable_t              0\n",
       "dtype: int64"
      ]
     },
     "execution_count": 31,
     "metadata": {},
     "output_type": "execute_result"
    }
   ],
   "source": [
    "df_mean.isnull().sum()"
   ]
  },
  {
   "cell_type": "code",
   "execution_count": 32,
   "id": "d63850e9",
   "metadata": {},
   "outputs": [
    {
     "data": {
      "text/plain": [
       "accommodates                    0\n",
       "bathrooms                       0\n",
       "cleaning_fee                    0\n",
       "review_scores_rating            0\n",
       "bedrooms                        0\n",
       "beds                            0\n",
       "log_price                       0\n",
       "room_type_Entire home/apt       0\n",
       "room_type_Private room          0\n",
       "room_type_Shared room           0\n",
       "cancellation_policy_flexible    0\n",
       "cancellation_policy_moderate    0\n",
       "cancellation_policy_strict      0\n",
       "instant_bookable_f              0\n",
       "instant_bookable_t              0\n",
       "dtype: int64"
      ]
     },
     "execution_count": 32,
     "metadata": {},
     "output_type": "execute_result"
    }
   ],
   "source": [
    "df_median.isnull().sum()"
   ]
  },
  {
   "cell_type": "markdown",
   "id": "8dc3ad71",
   "metadata": {},
   "source": [
    "Now we have two DataFrames with no null values as Null Values are imputated via Mean and Median and we have created two seperate data frames! But this does not seem to be right approach! We can use Predictive Alogorithms to replace Null Values with more closer Values."
   ]
  },
  {
   "cell_type": "code",
   "execution_count": 33,
   "id": "c5a1e8c7",
   "metadata": {},
   "outputs": [],
   "source": [
    "from sklearn.impute import KNNImputer #Importing KNN Imputer\n",
    "imputer = KNNImputer(n_neighbors=5)\n",
    "df_imputed = imputer.fit_transform(df_3)\n",
    "df_knn = pd.DataFrame(data=df_imputed, columns=df_3.columns)"
   ]
  },
  {
   "cell_type": "markdown",
   "id": "ba341ed6",
   "metadata": {},
   "source": [
    "Let us verify that all null values have been taken care of by KNNImputer!"
   ]
  },
  {
   "cell_type": "code",
   "execution_count": 34,
   "id": "6269a3e2",
   "metadata": {},
   "outputs": [
    {
     "data": {
      "text/plain": [
       "accommodates                    0\n",
       "bathrooms                       0\n",
       "cleaning_fee                    0\n",
       "review_scores_rating            0\n",
       "bedrooms                        0\n",
       "beds                            0\n",
       "log_price                       0\n",
       "room_type_Entire home/apt       0\n",
       "room_type_Private room          0\n",
       "room_type_Shared room           0\n",
       "cancellation_policy_flexible    0\n",
       "cancellation_policy_moderate    0\n",
       "cancellation_policy_strict      0\n",
       "instant_bookable_f              0\n",
       "instant_bookable_t              0\n",
       "dtype: int64"
      ]
     },
     "execution_count": 34,
     "metadata": {},
     "output_type": "execute_result"
    }
   ],
   "source": [
    "df_knn.isnull().sum()"
   ]
  },
  {
   "cell_type": "markdown",
   "id": "64d404bb",
   "metadata": {},
   "source": [
    "As of now, we have three different Data Frames 'df_mean', 'df_median' and 'df_knn' with missing values replaced by Mean, Median and KNNImputer!"
   ]
  },
  {
   "cell_type": "markdown",
   "id": "c99a16da",
   "metadata": {},
   "source": [
    "### Outlier Treatment"
   ]
  },
  {
   "cell_type": "markdown",
   "id": "928b359d",
   "metadata": {},
   "source": [
    "Do we even need to treat Outliers? When the outliers are true! Well it turns out that it is always better to create two Data Frames, one with Outliers treated and one with Outliers not treated!"
   ]
  },
  {
   "cell_type": "markdown",
   "id": "a9ce6507",
   "metadata": {},
   "source": [
    "Let us see the Outliers first! The Outliers in df_mean, df_median and df_knn shall remain the same! So we shall see anyone of them or all!"
   ]
  },
  {
   "cell_type": "code",
   "execution_count": 39,
   "id": "e62ed883",
   "metadata": {},
   "outputs": [
    {
     "data": {
      "image/png": "[encoded data removed]",
      "text/plain": [
       "<Figure size 500x500 with 1 Axes>"
      ]
     },
     "metadata": {},
     "output_type": "display_data"
    }
   ],
   "source": [
    "cont = df_knn.columns[:7] # Select columns from index 0 to 6\n",
    "\n",
    "# Plotting boxplot for selected columns\n",
    "plt.figure(figsize=(5,5))\n",
    "df_knn[cont].boxplot(vert=0)\n",
    "plt.title('With Outliers')\n",
    "plt.show()\n"
   ]
  },
  {
   "cell_type": "code",
   "execution_count": 52,
   "id": "1941461c",
   "metadata": {},
   "outputs": [
    {
     "data": {
      "image/png": "[encoded data removed]",
      "text/plain": [
       "<Figure size 500x500 with 1 Axes>"
      ]
     },
     "metadata": {},
     "output_type": "display_data"
    }
   ],
   "source": [
    "cont = df_mean.columns[:7] # Select columns from index 0 to 6\n",
    "\n",
    "# Plotting boxplot for selected columns\n",
    "plt.figure(figsize=(5,5))\n",
    "df_mean[cont].boxplot(vert=0)\n",
    "plt.title('With Outliers')\n",
    "plt.show()"
   ]
  },
  {
   "cell_type": "code",
   "execution_count": 53,
   "id": "06a7289a",
   "metadata": {},
   "outputs": [
    {
     "data": {
      "image/png": "[encoded data removed]",
      "text/plain": [
       "<Figure size 500x500 with 1 Axes>"
      ]
     },
     "metadata": {},
     "output_type": "display_data"
    }
   ],
   "source": [
    "cont = df_median.columns[:7] # Select columns from index 0 to 6\n",
    "\n",
    "# Plotting boxplot for selected columns\n",
    "plt.figure(figsize=(5,5))\n",
    "df_median[cont].boxplot(vert=0)\n",
    "plt.title('With Outliers')\n",
    "plt.show()"
   ]
  },
  {
   "cell_type": "markdown",
   "id": "a21a5a3a",
   "metadata": {},
   "source": [
    "Let us create a function that takes in a Column from a Data Frame and returns the Lower Range and Upper Range!"
   ]
  },
  {
   "cell_type": "code",
   "execution_count": 40,
   "id": "84e12ea3",
   "metadata": {},
   "outputs": [],
   "source": [
    "def remove_outliers(col):\n",
    "    sorted(col)\n",
    "    Q1, Q3 = np.percentile(col, [25,75])\n",
    "    IQR = Q3 - Q1\n",
    "    lower_range = Q1 - (1.5 * IQR)\n",
    "    upper_range = Q3 + (1.5 * IQR)\n",
    "    return lower_range, upper_range"
   ]
  },
  {
   "cell_type": "markdown",
   "id": "38d9d1a9",
   "metadata": {},
   "source": [
    "Let us check whether our defined function is working correctly or not!"
   ]
  },
  {
   "cell_type": "code",
   "execution_count": 43,
   "id": "1ccc64c7",
   "metadata": {},
   "outputs": [
    {
     "data": {
      "text/plain": [
       "(83.0, 107.0)"
      ]
     },
     "execution_count": 43,
     "metadata": {},
     "output_type": "execute_result"
    }
   ],
   "source": [
    "remove_outliers(df_mean['review_scores_rating'])"
   ]
  },
  {
   "cell_type": "markdown",
   "id": "d67298d2",
   "metadata": {},
   "source": [
    "The above line of code is showing us that anything below 83.0 and anything above 107.0 of the 'review_scores_rating' column of df_mean shall be treated as an outlier. The Function is working perfectly fine."
   ]
  },
  {
   "cell_type": "markdown",
   "id": "164ebc6f",
   "metadata": {},
   "source": [
    "Let us create 3 Seperate Data Frames where we shall treat the Outliers!"
   ]
  },
  {
   "cell_type": "code",
   "execution_count": 44,
   "id": "a960383c",
   "metadata": {},
   "outputs": [],
   "source": [
    "df_mean_o = df_mean.copy()\n",
    "df_median_o = df_median.copy()\n",
    "df_knn_o = df_knn.copy()"
   ]
  },
  {
   "cell_type": "markdown",
   "id": "525126c4",
   "metadata": {},
   "source": [
    "As of now, 'df_mean_o' is same as 'df_mean' and so on. We need to treat the outliers in df_mean_o so that we may have 6 DataFrames in actual."
   ]
  },
  {
   "cell_type": "code",
   "execution_count": 49,
   "id": "a0ef34f9",
   "metadata": {},
   "outputs": [],
   "source": [
    "for column in df_mean_o.columns[:7]:\n",
    "    lr, ur = remove_outliers(df_mean_o[column])\n",
    "    df_mean_o[column] = np.where(df_mean_o[column]>ur, ur, df_mean_o[column])\n",
    "    df_mean_o[column] = np.where(df_mean_o[column]<lr, lr, df_mean_o[column])"
   ]
  },
  {
   "cell_type": "code",
   "execution_count": 50,
   "id": "e00c62c4",
   "metadata": {},
   "outputs": [
    {
     "data": {
      "image/png": "[encoded data removed]",
      "text/plain": [
       "<Figure size 500x500 with 1 Axes>"
      ]
     },
     "metadata": {},
     "output_type": "display_data"
    }
   ],
   "source": [
    "cont = df_mean_o.columns[:7] # Select columns from index 0 to 6\n",
    "\n",
    "# Plotting boxplot for selected columns\n",
    "plt.figure(figsize=(5,5))\n",
    "df_mean_o[cont].boxplot(vert=0)\n",
    "plt.title('Without Outliers')\n",
    "plt.show()"
   ]
  },
  {
   "cell_type": "code",
   "execution_count": 51,
   "id": "7f03e7e3",
   "metadata": {},
   "outputs": [],
   "source": [
    "for column in df_median_o.columns[:7]:\n",
    "    lr, ur = remove_outliers(df_median_o[column])\n",
    "    df_median_o[column] = np.where(df_median_o[column]>ur, ur, df_median_o[column])\n",
    "    df_median_o[column] = np.where(df_median_o[column]<lr, lr, df_median_o[column])"
   ]
  },
  {
   "cell_type": "code",
   "execution_count": 54,
   "id": "f2200f6e",
   "metadata": {},
   "outputs": [
    {
     "data": {
      "image/png": "[encoded data removed]",
      "text/plain": [
       "<Figure size 500x500 with 1 Axes>"
      ]
     },
     "metadata": {},
     "output_type": "display_data"
    }
   ],
   "source": [
    "cont = df_median_o.columns[:7] # Select columns from index 0 to 6\n",
    "\n",
    "# Plotting boxplot for selected columns\n",
    "plt.figure(figsize=(5,5))\n",
    "df_median_o[cont].boxplot(vert=0)\n",
    "plt.title('Without Outliers')\n",
    "plt.show()"
   ]
  },
  {
   "cell_type": "code",
   "execution_count": 55,
   "id": "206ff611",
   "metadata": {},
   "outputs": [],
   "source": [
    "for column in df_knn_o.columns[:7]:\n",
    "    lr, ur = remove_outliers(df_knn_o[column])\n",
    "    df_knn_o[column] = np.where(df_knn_o[column]>ur, ur, df_knn_o[column])\n",
    "    df_knn_o[column] = np.where(df_knn_o[column]<lr, lr, df_knn_o[column])"
   ]
  },
  {
   "cell_type": "code",
   "execution_count": 56,
   "id": "cca73146",
   "metadata": {},
   "outputs": [
    {
     "data": {
      "image/png": "[encoded data removed]",
      "text/plain": [
       "<Figure size 500x500 with 1 Axes>"
      ]
     },
     "metadata": {},
     "output_type": "display_data"
    }
   ],
   "source": [
    "cont = df_knn_o.columns[:7] # Select columns from index 0 to 6\n",
    "\n",
    "# Plotting boxplot for selected columns\n",
    "plt.figure(figsize=(5,5))\n",
    "df_knn_o[cont].boxplot(vert=0)\n",
    "plt.title('Without Outliers')\n",
    "plt.show()"
   ]
  },
  {
   "cell_type": "markdown",
   "id": "abc8a83a",
   "metadata": {},
   "source": [
    "We now have 6 Data Frames!\n",
    "\n",
    "df_mean : Data Frame in which Null Values were filled with Mean of that Columns.\n",
    "\n",
    "df_median : Data Frame in which Null Values were filled with Median of that Columns.\n",
    "\n",
    "df_knn : Data Frame in which Null Values were filled with KNN Imputer.\n",
    "\n",
    "df_mean_o : Data Frame in which Null Values were filled with Mean of that Columns and Outliers treated.\n",
    "\n",
    "df_median_o : Data Frame in which Null Values were filled with Median of that Columns and Outliers treated.\n",
    "\n",
    "df_knn_o : Data Frame in which Null Values were filled with KNN Imputer and Outliers treated."
   ]
  },
  {
   "cell_type": "markdown",
   "id": "68de1ee4",
   "metadata": {},
   "source": [
    "We are going to save all 6 Data Frames in our Computer for safe side purpose!"
   ]
  },
  {
   "cell_type": "code",
   "execution_count": 57,
   "id": "fb7469a5",
   "metadata": {},
   "outputs": [],
   "source": [
    "df_mean.to_csv('df_mean.csv', index=False)"
   ]
  },
  {
   "cell_type": "code",
   "execution_count": 58,
   "id": "786029c4",
   "metadata": {},
   "outputs": [],
   "source": [
    "df_median.to_csv('df_median.csv', index=False)"
   ]
  },
  {
   "cell_type": "code",
   "execution_count": 59,
   "id": "a5ebb287",
   "metadata": {},
   "outputs": [],
   "source": [
    "df_knn.to_csv('df_knn.csv', index=False)"
   ]
  },
  {
   "cell_type": "code",
   "execution_count": 60,
   "id": "d0a2620e",
   "metadata": {},
   "outputs": [],
   "source": [
    "df_mean_o.to_csv('df_mean_o.csv', index=False)"
   ]
  },
  {
   "cell_type": "code",
   "execution_count": 61,
   "id": "75665930",
   "metadata": {},
   "outputs": [],
   "source": [
    "df_median_o.to_csv('df_median_o.csv', index=False)"
   ]
  },
  {
   "cell_type": "code",
   "execution_count": 62,
   "id": "f2db4200",
   "metadata": {},
   "outputs": [],
   "source": [
    "df_knn_o.to_csv('df_knn_o.csv',index=False)"
   ]
  },
  {
   "cell_type": "markdown",
   "id": "2cefba47",
   "metadata": {},
   "source": [
    "Now we have out Data transformed! Thus we need to do modeling and visualizations over it!"
   ]
  }
 ],
 "metadata": {
  "kernelspec": {
   "display_name": "jafrienv",
   "language": "python",
   "name": "jafrienv"
  },
  "language_info": {
   "codemirror_mode": {
    "name": "ipython",
    "version": 3
   },
   "file_extension": ".py",
   "mimetype": "text/x-python",
   "name": "python",
   "nbconvert_exporter": "python",
   "pygments_lexer": "ipython3",
   "version": "3.12.4"
  }
 },
 "nbformat": 4,
 "nbformat_minor": 5
}
